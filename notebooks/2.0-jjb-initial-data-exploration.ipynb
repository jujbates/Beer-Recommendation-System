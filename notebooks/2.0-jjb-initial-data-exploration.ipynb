{
 "cells": [
  {
   "cell_type": "code",
   "execution_count": null,
   "outputs": [],
   "source": [
    "import awswrangler as wr\n",
    "# import lux\n",
    "import pandas as pd\n",
    "import numpy as np\n",
    "import copy\n",
    "\n",
    "import matplotlib.pyplot as plt\n",
    "import seaborn as sns\n",
    "%matplotlib inline\n",
    "\n",
    "from surprise import SVD, KNNBasic, NMF\n",
    "from surprise import Dataset\n",
    "from surprise import Reader\n",
    "from surprise import accuracy\n",
    "from surprise import KNNBaseline, SVD\n",
    "from surprise import get_dataset_dir\n",
    "from surprise.model_selection import KFold\n",
    "from surprise.model_selection import cross_validate\n",
    "from surprise.model_selection import train_test_split\n",
    "from surprise.model_selection import GridSearchCV\n",
    "\n",
    "from sklearn.preprocessing import StandardScaler\n",
    "from sklearn.preprocessing import Normalizer\n",
    "from sklearn.decomposition import TruncatedSVD\n",
    "\n",
    "\n",
    "\n",
    "import warnings\n",
    "warnings.filterwarnings(\"ignore\")"
   ],
   "metadata": {
    "collapsed": false,
    "pycharm": {
     "name": "#%%\n"
    }
   }
  },
  {
   "cell_type": "code",
   "execution_count": null,
   "outputs": [],
   "source": [
    "pip install surprise\n"
   ],
   "metadata": {
    "collapsed": false,
    "pycharm": {
     "name": "#%%\n"
    }
   }
  },
  {
   "cell_type": "code",
   "execution_count": null,
   "outputs": [],
   "source": [
    "df_meta = wr.athena.read_sql_table(table='beer_meta', database='beer_data')\n",
    "type(df_meta)"
   ],
   "metadata": {
    "collapsed": false,
    "pycharm": {
     "name": "#%%\n"
    }
   }
  },
  {
   "cell_type": "code",
   "execution_count": null,
   "outputs": [],
   "source": [
    "df_meta"
   ],
   "metadata": {
    "collapsed": false,
    "pycharm": {
     "name": "#%%\n"
    }
   }
  },
  {
   "cell_type": "code",
   "execution_count": null,
   "outputs": [],
   "source": [
    "df_rating = wr.athena.read_sql_table(table='beer_rating', database='beer_data')\n",
    "\n",
    "type(df_rating)"
   ],
   "metadata": {
    "collapsed": false,
    "pycharm": {
     "name": "#%%\n"
    }
   }
  },
  {
   "cell_type": "code",
   "execution_count": null,
   "outputs": [],
   "source": [
    "df_rating"
   ],
   "metadata": {
    "collapsed": false,
    "pycharm": {
     "name": "#%%\n"
    }
   }
  },
  {
   "cell_type": "code",
   "execution_count": null,
   "outputs": [],
   "source": [
    "df_meta.head()"
   ],
   "metadata": {
    "collapsed": false,
    "pycharm": {
     "name": "#%%\n"
    }
   }
  },
  {
   "cell_type": "code",
   "execution_count": null,
   "outputs": [],
   "source": [
    "df_meta.info()"
   ],
   "metadata": {
    "collapsed": false,
    "pycharm": {
     "name": "#%%\n"
    }
   }
  },
  {
   "cell_type": "code",
   "execution_count": null,
   "outputs": [],
   "source": [
    "df_meta.describe()"
   ],
   "metadata": {
    "collapsed": false,
    "pycharm": {
     "name": "#%%\n"
    }
   }
  },
  {
   "cell_type": "code",
   "execution_count": null,
   "outputs": [],
   "source": [
    "df_rating.head()"
   ],
   "metadata": {
    "collapsed": false,
    "pycharm": {
     "name": "#%%\n"
    }
   }
  },
  {
   "cell_type": "code",
   "execution_count": null,
   "outputs": [],
   "source": [
    "df_rating.info()"
   ],
   "metadata": {
    "collapsed": false,
    "pycharm": {
     "name": "#%%\n"
    }
   }
  },
  {
   "cell_type": "code",
   "execution_count": null,
   "outputs": [],
   "source": [
    "df_rating.describe()"
   ],
   "metadata": {
    "collapsed": false,
    "pycharm": {
     "name": "#%%\n"
    }
   }
  },
  {
   "cell_type": "code",
   "execution_count": null,
   "outputs": [],
   "source": [
    "df = pd.merge(df_rating, df_meta, on=['brewery_id', 'beer_id'])\n",
    "df.rename(columns={'name': 'beer_name'}, inplace=True)\n",
    "df"
   ],
   "metadata": {
    "collapsed": false,
    "pycharm": {
     "name": "#%%\n"
    }
   }
  },
  {
   "cell_type": "code",
   "execution_count": null,
   "outputs": [],
   "source": [
    "df = df[['brewery_name', 'beer_name', 'beer_style', 'beer_sub_style', 'user_name', 'user_rating', 'rating', 'rating_count', 'review_count', 'ba_score', 'abv']]"
   ],
   "metadata": {
    "collapsed": false,
    "pycharm": {
     "name": "#%%\n"
    }
   }
  },
  {
   "cell_type": "code",
   "execution_count": null,
   "outputs": [],
   "source": [
    "df\n"
   ],
   "metadata": {
    "collapsed": false,
    "pycharm": {
     "name": "#%%\n"
    }
   }
  },
  {
   "cell_type": "code",
   "execution_count": null,
   "outputs": [],
   "source": [
    "df.describe()\n"
   ],
   "metadata": {
    "collapsed": false,
    "pycharm": {
     "name": "#%%\n"
    }
   }
  },
  {
   "cell_type": "code",
   "execution_count": null,
   "outputs": [],
   "source": [
    "data= df.beer_name.value_counts()\n",
    "\n",
    "plt.figure(figsize=(20, 10))\n",
    "\n",
    "# Plotting hist without kde\n",
    "ax = sns.distplot(data, bins=75, kde=False)\n",
    "\n",
    "# Creating another Y axis\n",
    "second_ax = ax.twinx()\n",
    "\n",
    "# Plotting kde without hist on the second Y axis\n",
    "sns.distplot(data, ax=second_ax, kde=True, hist=False)\n",
    "\n",
    "#Removing Y ticks from the second axis\n",
    "second_ax.set_yticks([])\n",
    "\n",
    "# Set labels\n",
    "ax.set_xlabel('Review Counts')\n",
    "ax.set_ylabel('No. Beers')\n",
    "ax.set_title(\"Histogram of Review Counts\")\n"
   ],
   "metadata": {
    "collapsed": false,
    "pycharm": {
     "name": "#%%\n"
    }
   }
  },
  {
   "cell_type": "code",
   "execution_count": null,
   "outputs": [],
   "source": [
    "grouped_beers = df[['beer_name', 'user_name', 'user_rating']].groupby('beer_name')\n"
   ],
   "metadata": {
    "collapsed": false,
    "pycharm": {
     "name": "#%%\n"
    }
   }
  },
  {
   "cell_type": "code",
   "execution_count": null,
   "outputs": [],
   "source": [
    "grouped_beers.count().sort_values(by='user_name', ascending = False).quantile(np.arange(0.99,1,.0005))\n"
   ],
   "metadata": {
    "collapsed": false,
    "pycharm": {
     "name": "#%%\n"
    }
   }
  },
  {
   "cell_type": "code",
   "execution_count": null,
   "outputs": [],
   "source": [
    "grouped_beers.mean().sort_values(by='user_rating', ascending = False).quantile(np.arange(0,1,.05))\n"
   ],
   "metadata": {
    "collapsed": false,
    "pycharm": {
     "name": "#%%\n"
    }
   }
  },
  {
   "cell_type": "code",
   "execution_count": null,
   "outputs": [],
   "source": [
    "data2 = df.user_name.value_counts()\n",
    "\n",
    "# Plotting hist without kde\n",
    "ax2 = sns.distplot(data2, kde=False)\n",
    "\n",
    "# Creating another Y axis\n",
    "second_ax2 = ax2.twinx()\n",
    "\n",
    "# Plotting kde without hist on the second Y axis\n",
    "sns.distplot(data2, ax=second_ax2, kde=True, hist=False)\n",
    "\n",
    "#Removing Y ticks from the second axis\n",
    "second_ax2.set_yticks([])\n",
    "\n",
    "# Set labels\n",
    "ax2.set_xlabel('Review Counts')\n",
    "ax2.set_ylabel('No. Users')\n",
    "ax2.set_title(\"Histogram of User Counts\")"
   ],
   "metadata": {
    "collapsed": false,
    "pycharm": {
     "name": "#%%\n"
    }
   }
  },
  {
   "cell_type": "code",
   "execution_count": null,
   "outputs": [],
   "source": [
    "grouped_users = df.groupby('user_name')\n"
   ],
   "metadata": {
    "collapsed": false,
    "pycharm": {
     "name": "#%%\n"
    }
   }
  },
  {
   "cell_type": "code",
   "execution_count": null,
   "outputs": [],
   "source": [
    "grouped_users_count = grouped_users.count()\n",
    "\n",
    "counts = [1,2,3,4,5,10,15,20, 25, 50, 75, 100, 500, 1000, 10000]\n",
    "for ct in counts:\n",
    "    num_users = grouped_users_count[grouped_users_count['rating'] <= ct].count()[0]\n",
    "    print('{} users rated {} or less beers'.format(num_users,ct))\n",
    "\n",
    "print('\\n')\n",
    "print('Total Unique Users in this dataset: {}'.format(len(df.user_name.unique())))\n"
   ],
   "metadata": {
    "collapsed": false,
    "pycharm": {
     "name": "#%%\n"
    }
   }
  },
  {
   "cell_type": "code",
   "execution_count": null,
   "outputs": [],
   "source": [
    "df\n"
   ],
   "metadata": {
    "collapsed": false,
    "pycharm": {
     "name": "#%%\n"
    }
   }
  },
  {
   "cell_type": "code",
   "execution_count": null,
   "outputs": [],
   "source": [
    "avg_rating = grouped_beers.mean()\n",
    "\n",
    "\n",
    "# # I am definining beers with average rating less than 3.5 to be considered subpar \n",
    "# # since a 3.5 avg rating would put it in the bottom 10 percentile of these beers\n",
    "subpar_average_mask = avg_rating['user_rating'] < 3.5\n",
    "subpar_beers_count = len(avg_rating[subpar_average_mask])\n",
    "\n",
    "print('{} beers have a average rating less than 3.5'.format(subpar_beers_count))\n",
    "print('A 3.5 avg rating puts the beer within the bottom 10%-tile')\n"
   ],
   "metadata": {
    "collapsed": false,
    "pycharm": {
     "name": "#%%\n"
    }
   }
  },
  {
   "cell_type": "code",
   "execution_count": null,
   "outputs": [],
   "source": [
    "\n",
    "bottom_10percent_rating = grouped_beers.mean().quantile(np.arange(0,.11,.01))\n",
    "bottom_10percent_counts = grouped_beers.count().quantile(np.arange(0,.11,.01))"
   ],
   "metadata": {
    "collapsed": false,
    "pycharm": {
     "name": "#%%\n"
    }
   }
  },
  {
   "cell_type": "code",
   "execution_count": null,
   "outputs": [],
   "source": [
    "bottom_10percent_rating\n"
   ],
   "metadata": {
    "collapsed": false,
    "pycharm": {
     "name": "#%%\n"
    }
   }
  },
  {
   "cell_type": "code",
   "execution_count": null,
   "outputs": [],
   "source": [
    "bottom_10percent_counts\n"
   ],
   "metadata": {
    "collapsed": false,
    "pycharm": {
     "name": "#%%\n"
    }
   }
  },
  {
   "cell_type": "code",
   "execution_count": null,
   "outputs": [],
   "source": [
    "data2= df.user_name.value_counts()\n",
    "\n",
    "# Plotting hist without kde\n",
    "ax2 = sns.distplot(data2, kde=False)\n",
    "\n",
    "# Creating another Y axis\n",
    "second_ax2 = ax2.twinx()\n",
    "\n",
    "# Plotting kde without hist on the second Y axis\n",
    "sns.distplot(data2, ax=second_ax2, kde=True, hist=False)\n",
    "\n",
    "#Removing Y ticks from the second axis\n",
    "second_ax2.set_yticks([])\n",
    "\n",
    "# Set labels\n",
    "ax2.set_xlabel('Review Counts')\n",
    "ax2.set_ylabel('No. Users')\n",
    "ax2.set_title(\"Histogram of User Counts\")\n"
   ],
   "metadata": {
    "collapsed": false,
    "pycharm": {
     "name": "#%%\n"
    }
   }
  },
  {
   "cell_type": "code",
   "execution_count": null,
   "outputs": [],
   "source": [
    "grouped_users = df.groupby('user_name')\n"
   ],
   "metadata": {
    "collapsed": false,
    "pycharm": {
     "name": "#%%\n"
    }
   }
  },
  {
   "cell_type": "code",
   "execution_count": null,
   "outputs": [],
   "source": [
    "\n",
    "counts = [1,2,3,4,5,10,15,20]\n",
    "for ct in counts:\n",
    "    num_users = grouped_users_count[grouped_users_count['rating'] <= ct].count()[0]\n",
    "    print('{} users rated {} or less beers'.format(num_users,ct))\n",
    "\n",
    "print('\\n')\n",
    "print('Total Unique Users in this dataset: {}'.format(len(df.user_name.unique())))"
   ],
   "metadata": {
    "collapsed": false,
    "pycharm": {
     "name": "#%%\n"
    }
   }
  },
  {
   "cell_type": "code",
   "execution_count": null,
   "outputs": [],
   "source": [
    "subpar_beers_list = list(avg_rating[subpar_average_mask].index)\n",
    "\n",
    "ratings_count = grouped_beers.count()\n",
    "ratings_count\n",
    "\n",
    "\n",
    "# I am definining beers with ratings count less than 13 to be considered low amount of ratings \n",
    "# since a ratings count of 13 would put it in the bottom 10 percentile\n",
    "low_ratings_count = ratings_count[ratings_count['user_rating'] < 13]\n",
    "low_ratings_list = list(low_ratings_count.index)"
   ],
   "metadata": {
    "collapsed": false,
    "pycharm": {
     "name": "#%%\n"
    }
   }
  },
  {
   "cell_type": "code",
   "execution_count": null,
   "outputs": [],
   "source": [
    "unique_subpar_beers = set(subpar_beers_list)\n",
    "unique_low_ratings_beers = set(low_ratings_list)\n",
    "overlaps = unique_subpar_beers.intersection(unique_low_ratings_beers)\n",
    "print('Number of beers in bottom 10% of avg rating: {}'.format(len(unique_subpar_beers)))\n",
    "print('Number of beers in bottom 10% of review counts: {}'.format(len(unique_low_ratings_beers)))\n",
    "print('Number of beers in both of these categories: {}'.format(len(overlaps)))\n"
   ],
   "metadata": {
    "collapsed": false,
    "pycharm": {
     "name": "#%%\n"
    }
   }
  },
  {
   "cell_type": "code",
   "execution_count": null,
   "outputs": [],
   "source": [
    "#remove beers in the bottom 10% of both categories\n",
    "df1 = df[~df.beer_name.isin(subpar_beers_list)]\n",
    "df2 = df1[~df1.beer_name.isin(low_ratings_list)]\n",
    "final_df = copy.deepcopy(df2)\n"
   ],
   "metadata": {
    "collapsed": false,
    "pycharm": {
     "name": "#%%\n"
    }
   }
  },
  {
   "cell_type": "code",
   "execution_count": null,
   "outputs": [],
   "source": [
    "final_df.info()\n"
   ],
   "metadata": {
    "collapsed": false,
    "pycharm": {
     "name": "#%%\n"
    }
   }
  },
  {
   "cell_type": "code",
   "execution_count": null,
   "outputs": [],
   "source": [
    "print('Original number of unique beers: {}'.format(len(df.beer_name.unique())))\n",
    "\n",
    "print('Revised number of unique beers: {}'.format(len(final_df.beer_name.unique())))\n"
   ],
   "metadata": {
    "collapsed": false,
    "pycharm": {
     "name": "#%%\n"
    }
   }
  },
  {
   "cell_type": "code",
   "execution_count": null,
   "outputs": [],
   "source": [
    "temp_df_user_idx"
   ],
   "metadata": {
    "collapsed": false,
    "pycharm": {
     "name": "#%%\n"
    }
   }
  },
  {
   "cell_type": "code",
   "execution_count": null,
   "outputs": [],
   "source": [
    "new_dict_user"
   ],
   "metadata": {
    "collapsed": false,
    "pycharm": {
     "name": "#%%\n"
    }
   }
  },
  {
   "cell_type": "code",
   "execution_count": null,
   "outputs": [],
   "source": [
    "\n",
    "\n",
    "# create beerID for each beer\n",
    "\n",
    "grouped_name = final_df.groupby('beer_name')\n",
    "\n",
    "temp_df = grouped_name.count()\n",
    "temp_df_idx = pd.DataFrame(temp_df.index)\n",
    "\n",
    "\n",
    "temp_df_idx['beer_id'] = temp_df_idx.index\n",
    "dict_df=temp_df_idx[['beer_id','beer_name']]\n",
    "\n",
    "\n",
    "desc_dict = dict_df.set_index('beer_name').to_dict()\n",
    "new_dict = desc_dict['beer_id']\n",
    "\n",
    "final_df['beer_id'] = final_df.beer_name.map(new_dict)\n",
    "\n",
    "\n",
    "\n",
    "# create userID for each user\n",
    "grouped_user = final_df.groupby('user_name')\n",
    "\n",
    "temp_df_user = grouped_user.count()\n",
    "temp_df_user_idx = pd.DataFrame(temp_df_user.index)\n",
    "\n",
    "\n",
    "temp_df_user_idx['user_id'] = temp_df_user_idx.index\n",
    "dict_df_user = temp_df_user_idx[['user_id','user_name']] \n",
    "\n",
    "\n",
    "desc_dict_user = dict_df_user.set_index('user_name').to_dict()\n",
    "new_dict_user = desc_dict_user['user_id']\n",
    "\n",
    "final_df['user_id'] = final_df.user_name.map(new_dict_user)"
   ],
   "metadata": {
    "collapsed": false,
    "pycharm": {
     "name": "#%%\n"
    }
   }
  },
  {
   "cell_type": "code",
   "execution_count": null,
   "outputs": [],
   "source": [
    "\n",
    "def read_item_names():\n",
    "    \"\"\"\n",
    "    return raw ids  beer names into raw ids.\n",
    "    \"\"\"\n",
    "\n",
    "\n",
    "    file_name = dict_df\n",
    "    rid_to_name = {}\n",
    "    name_to_rid = {}\n",
    "\n",
    "    # there are 3959 unique beers after removing the low rating and review count beers\n",
    "    unique_beers = len(final_df.beer_name.unique())\n",
    "    \n",
    "    for i in range(unique_beers):  \n",
    "        line = file_name.iloc[i]\n",
    "        rid_to_name[line[0]] = line[1]\n",
    "        name_to_rid[line[1]] = line[0]\n",
    "\n",
    "    return rid_to_name, name_to_rid\n"
   ],
   "metadata": {
    "collapsed": false,
    "pycharm": {
     "name": "#%%\n"
    }
   }
  },
  {
   "cell_type": "code",
   "execution_count": null,
   "outputs": [],
   "source": [
    "def get_rec(beer_name, k):\n",
    "    \"\"\"\n",
    "    Input Beer name and returns k recommendations\n",
    "    based on item similarity\n",
    "    \n",
    "    Input: String, integer\n",
    "    Output: String\n",
    "    \"\"\"\n",
    "#     output = []\n",
    "    \n",
    "    rid_to_name, name_to_rid = read_item_names()\n",
    "\n",
    "    beer_input_raw_id = name_to_rid[beer_name]\n",
    "    beer_input_inner_id = algo.trainset.to_inner_iid(beer_input_raw_id)\n",
    "\n",
    "        \n",
    "    beer_input_neighbors = algo.get_neighbors(beer_input_inner_id, k=k)\n",
    "\n",
    "    \n",
    "    beer_input_neighbors = (algo.trainset.to_raw_iid(inner_id) for inner_id in beer_input_neighbors)\n",
    "    \n",
    "    beer_input_neighbors = (rid_to_name[rid]  for rid in beer_input_neighbors)\n",
    "\n",
    "#     for beer_ in beer_input_neighbors:\n",
    "#         output.append(beer_)\n",
    "        \n",
    "    return list(beer_input_neighbors)"
   ],
   "metadata": {
    "collapsed": false,
    "pycharm": {
     "name": "#%%\n"
    }
   }
  },
  {
   "cell_type": "code",
   "execution_count": null,
   "outputs": [],
   "source": [
    "reader = Reader(rating_scale=(1,5))\n",
    "data = Dataset.load_from_df(final_df[['user_id', 'beer_id', 'rating']], reader)\n",
    "trainset = data.build_full_trainset()\n",
    "sim_options = {'name': 'pearson_baseline', 'user_based': False}\n",
    "algo = KNNBaseline(sim_options=sim_options)\n",
    "algo.fit(trainset)\n"
   ],
   "metadata": {
    "collapsed": false,
    "pycharm": {
     "name": "#%%\n"
    }
   }
  },
  {
   "cell_type": "code",
   "execution_count": null,
   "outputs": [],
   "source": [
    "\n",
    "# Run 5-fold cross-validation and print results\n",
    "cross_validate(algo, data, measures=['RMSE', 'MAE'], cv=5, verbose=True)\n"
   ],
   "metadata": {
    "collapsed": false,
    "pycharm": {
     "name": "#%%\n"
    }
   }
  },
  {
   "cell_type": "code",
   "execution_count": null,
   "outputs": [],
   "source": [
    "# top 20 most rated beers\n",
    "grouped_beer_names = final_df.groupby('beer_name')\n",
    "grouped_beer_names.count().sort_values(by='user_name', ascending=False)[0:21].index.tolist()"
   ],
   "metadata": {
    "collapsed": false,
    "pycharm": {
     "name": "#%%\n"
    }
   }
  },
  {
   "cell_type": "code",
   "execution_count": null,
   "outputs": [],
   "source": [
    "grouped_beer_names.mean().sort_values(by='rating', ascending=False)[0:21].index.tolist()"
   ],
   "metadata": {
    "collapsed": false,
    "pycharm": {
     "name": "#%%\n"
    }
   }
  },
  {
   "cell_type": "code",
   "execution_count": null,
   "outputs": [],
   "source": [
    "get_rec('Headroom', 20)"
   ],
   "metadata": {
    "collapsed": false,
    "pycharm": {
     "name": "#%%\n"
    }
   }
  },
  {
   "cell_type": "code",
   "execution_count": null,
   "outputs": [],
   "source": [
    "get_rec('Two Hearted Ale', 20)"
   ],
   "metadata": {
    "collapsed": false,
    "pycharm": {
     "name": "#%%\n"
    }
   }
  },
  {
   "cell_type": "code",
   "execution_count": null,
   "outputs": [],
   "source": [
    "top20rated = final_df.groupby('beer_name').count().sort_values(by='user_name', ascending =False)[0:21].index.tolist()\n",
    "top20rated = set(top20rated)\n",
    "\n",
    "top20rating = final_df.groupby('beer_name').mean().sort_values(by='rating', ascending =False)[0:21].index.tolist()\n",
    "top20rating = set(top20rating)\n",
    "\n",
    "beer_1 = set(get_rec('Headroom',20))\n",
    "beer_2 = set(get_rec('Two Hearted Ale',20))\n",
    "beer_1"
   ],
   "metadata": {
    "collapsed": false,
    "pycharm": {
     "name": "#%%\n"
    }
   }
  },
  {
   "cell_type": "code",
   "execution_count": null,
   "outputs": [],
   "source": [
    "print(beer_1.intersection(top20rated))\n",
    "print(beer_1.intersection(top20rating))\n"
   ],
   "metadata": {
    "collapsed": false,
    "pycharm": {
     "name": "#%%\n"
    }
   }
  },
  {
   "cell_type": "code",
   "execution_count": null,
   "outputs": [],
   "source": [
    "print(beer_2.intersection(top20rated))\n",
    "print(beer_2.intersection(top20rating))"
   ],
   "metadata": {
    "collapsed": false,
    "pycharm": {
     "name": "#%%\n"
    }
   }
  },
  {
   "cell_type": "code",
   "execution_count": null,
   "outputs": [],
   "source": [
    "beer_3 = set(get_rec(\"A Little Sumpin' Sumpin' Ale\",20))\n",
    "beer_4 = set(get_rec('Hazy Memory',20))\n",
    "beer_5 = set(get_rec('Pilsner Urquell',20))\n",
    "beer_6 = set(get_rec('831 IPA',20))\n",
    "beer_7 = set(get_rec('Pliny The Elder',20))\n",
    "beer_8 = set(get_rec('West Coast IPA', 20))\n"
   ],
   "metadata": {
    "collapsed": false,
    "pycharm": {
     "name": "#%%\n"
    }
   }
  },
  {
   "cell_type": "code",
   "execution_count": null,
   "outputs": [],
   "source": [
    "print(beer_3.intersection(top20rated))\n",
    "print(beer_3.intersection(top20rating))\n",
    "print(beer_4.intersection(top20rated))\n",
    "print(beer_4.intersection(top20rating))\n",
    "print(beer_5.intersection(top20rated))\n",
    "print(beer_5.intersection(top20rating))\n",
    "print(beer_6.intersection(top20rated))\n",
    "print(beer_6.intersection(top20rating))\n",
    "print(beer_7.intersection(top20rated))\n",
    "print(beer_7.intersection(top20rating))\n",
    "print(beer_8.intersection(top20rated))\n",
    "print(beer_8.intersection(top20rating))\n"
   ],
   "metadata": {
    "collapsed": false,
    "pycharm": {
     "name": "#%%\n"
    }
   }
  },
  {
   "cell_type": "code",
   "execution_count": null,
   "outputs": [],
   "source": [
    "beer_3"
   ],
   "metadata": {
    "collapsed": false,
    "pycharm": {
     "name": "#%%\n"
    }
   }
  },
  {
   "cell_type": "code",
   "execution_count": null,
   "outputs": [],
   "source": [
    "beer_6"
   ],
   "metadata": {
    "collapsed": false,
    "pycharm": {
     "name": "#%%\n"
    }
   }
  },
  {
   "cell_type": "code",
   "execution_count": null,
   "outputs": [],
   "source": [
    "beer_8"
   ],
   "metadata": {
    "collapsed": false,
    "pycharm": {
     "name": "#%%\n"
    }
   }
  },
  {
   "cell_type": "code",
   "execution_count": null,
   "outputs": [],
   "source": [
    "final_df_pivot = final_df.pivot_table(index='user_name', columns='beer_name', values='rating').fillna(0)\n"
   ],
   "metadata": {
    "collapsed": false,
    "pycharm": {
     "name": "#%%\n"
    }
   }
  },
  {
   "cell_type": "code",
   "execution_count": null,
   "outputs": [],
   "source": [
    "final_df_pivot.info()\n"
   ],
   "metadata": {
    "collapsed": false,
    "pycharm": {
     "name": "#%%\n"
    }
   }
  },
  {
   "cell_type": "code",
   "execution_count": null,
   "outputs": [],
   "source": [
    "final_df_pivot_T = final_df_pivot.values.T\n",
    "final_df_pivot_T.shape\n"
   ],
   "metadata": {
    "collapsed": false,
    "pycharm": {
     "name": "#%%\n"
    }
   }
  },
  {
   "cell_type": "code",
   "execution_count": null,
   "outputs": [],
   "source": [
    "\n",
    "def exp_var(list_n_components):\n",
    "    \n",
    "    out = []\n",
    "    \n",
    "    for num in list_n_components:\n",
    "        SVD = TruncatedSVD(n_components=num,random_state=num)\n",
    "        SVD.fit_transform(final_df_pivot_T)\n",
    "        evar = np.sum(SVD.explained_variance_ratio_)\n",
    "        t = (num,evar)\n",
    "        out.append(t)\n",
    "    \n",
    "    return out"
   ],
   "metadata": {
    "collapsed": false,
    "pycharm": {
     "name": "#%%\n"
    }
   }
  },
  {
   "cell_type": "code",
   "execution_count": null,
   "outputs": [],
   "source": [
    "n_comp = [5,10,20,50,100,200,300]\n",
    "explained_variance = exp_var(n_comp)"
   ],
   "metadata": {
    "collapsed": false,
    "pycharm": {
     "name": "#%%\n"
    }
   }
  },
  {
   "cell_type": "code",
   "execution_count": null,
   "outputs": [],
   "source": [
    "[print(i) for i in explained_variance]\n"
   ],
   "metadata": {
    "collapsed": false,
    "pycharm": {
     "name": "#%%\n"
    }
   }
  },
  {
   "cell_type": "code",
   "execution_count": null,
   "outputs": [],
   "source": [
    "x, y = zip(*explained_variance)\n",
    "plt.scatter(x, y)"
   ],
   "metadata": {
    "collapsed": false,
    "pycharm": {
     "name": "#%%\n"
    }
   }
  },
  {
   "cell_type": "code",
   "execution_count": null,
   "outputs": [],
   "source": [
    "SVD200 = TruncatedSVD(n_components=200, random_state=43)\n",
    "matrix200 = SVD200.fit_transform(final_df_pivot_T)\n",
    "matrix200.shape\n"
   ],
   "metadata": {
    "collapsed": false,
    "pycharm": {
     "name": "#%%\n"
    }
   }
  },
  {
   "cell_type": "code",
   "execution_count": null,
   "outputs": [],
   "source": [
    "corr200 = np.corrcoef(matrix200)\n",
    "corr200.shape"
   ],
   "metadata": {
    "collapsed": false,
    "pycharm": {
     "name": "#%%\n"
    }
   }
  },
  {
   "cell_type": "code",
   "execution_count": null,
   "outputs": [],
   "source": [
    "\n",
    "# name of all beers\n",
    "beer_rec_names200 = final_df_pivot.columns\n",
    "\n",
    "# list of all beer names\n",
    "beer_rec_list200 = list(beer_rec_names200)"
   ],
   "metadata": {
    "collapsed": false,
    "pycharm": {
     "name": "#%%\n"
    }
   }
  },
  {
   "cell_type": "code",
   "execution_count": null,
   "outputs": [],
   "source": [
    "def svd200_recs(string, n):\n",
    "    \"\"\"\n",
    "    function returns top n recommendations base on input of beer name and n.\n",
    "    \n",
    "    inputs: \n",
    "    string (name of beer) -> string\n",
    "    n (n recommendations) ->  int\n",
    "    \"\"\"\n",
    "    \n",
    "    # get index of beer name from list of all beers in the training data\n",
    "    get_index = beer_rec_list200.index(string)\n",
    "    \n",
    "    # similarity coeff of all other beers w respect to the input beer\n",
    "    similarities = corr200[get_index]\n",
    "    \n",
    "    # create  & popluate list to hold tuples of beer names and their \n",
    "    # respective correlation coeff, sorted in reverse\n",
    "    closest = []    \n",
    "    for idx, coeff in enumerate(similarities):\n",
    "        closest.append((beer_rec_list200[idx], coeff))\n",
    "    \n",
    "    closest.sort(key=lambda x: x[1], reverse=True)\n",
    "    \n",
    "    out = []\n",
    "    \n",
    "    for i in range(1,n+1):\n",
    "        out.append(closest[i][0])\n",
    "    return out"
   ],
   "metadata": {
    "collapsed": false,
    "pycharm": {
     "name": "#%%\n"
    }
   }
  },
  {
   "cell_type": "code",
   "execution_count": null,
   "outputs": [],
   "source": [
    "svd200_recs('Spotted Cow',20)\n"
   ],
   "metadata": {
    "collapsed": false,
    "pycharm": {
     "name": "#%%\n"
    }
   }
  },
  {
   "cell_type": "code",
   "execution_count": null,
   "outputs": [],
   "source": [
    "A = set(svd200_recs('Two Hearted Ale',20))\n",
    "B = set(get_rec('Two Hearted Ale',20))\n",
    "print('common beers: {}'.format(A.intersection(B)))\n",
    "print('number of common beers: {}'.format(len(A.intersection(B))))\n"
   ],
   "metadata": {
    "collapsed": false,
    "pycharm": {
     "name": "#%%\n"
    }
   }
  },
  {
   "cell_type": "code",
   "execution_count": null,
   "outputs": [],
   "source": [
    "\n",
    "def compare_recs(name_list,n):\n",
    "\n",
    "    results = []\n",
    "    \n",
    "    for idx, name in enumerate(name_list):\n",
    "        svd = set(svd200_recs(name,n))\n",
    "        knn = set(get_rec(name,n))\n",
    "        common = len(svd.intersection(knn))\n",
    "        tup = (idx, common)\n",
    "        results.append(tup)\n",
    "    \n",
    "    x,y = zip(*results)\n",
    "    plt.scatter(x, y)\n",
    "    plt.xlabel('Beer No.')\n",
    "    plt.ylabel('Common Recs')\n",
    "    plt.show()\n"
   ],
   "metadata": {
    "collapsed": false,
    "pycharm": {
     "name": "#%%\n"
    }
   }
  },
  {
   "cell_type": "code",
   "execution_count": null,
   "outputs": [],
   "source": [
    "grouped = final_df.groupby('beer_name')\n",
    "namelist = grouped.mean().sort_values(by='rating', ascending =False)[::40].index.tolist()\n"
   ],
   "metadata": {
    "collapsed": false,
    "pycharm": {
     "name": "#%%\n"
    }
   }
  },
  {
   "cell_type": "code",
   "execution_count": null,
   "outputs": [],
   "source": [
    "compare_recs(namelist, 50)\n"
   ],
   "metadata": {
    "collapsed": false,
    "pycharm": {
     "name": "#%%\n"
    }
   }
  },
  {
   "cell_type": "code",
   "execution_count": null,
   "outputs": [],
   "source": [],
   "metadata": {
    "collapsed": false,
    "pycharm": {
     "name": "#%%\n"
    }
   }
  }
 ],
 "metadata": {
  "kernelspec": {
   "display_name": "PyCharm (BeerRecommendationSystem)",
   "language": "python",
   "name": "pycharm-df7c3fe"
  },
  "language_info": {
   "codemirror_mode": {
    "name": "ipython",
    "version": 3
   },
   "file_extension": ".py",
   "mimetype": "text/x-python",
   "name": "python",
   "nbconvert_exporter": "python",
   "pygments_lexer": "ipython3",
   "version": "3.7.9"
  }
 },
 "nbformat": 4,
 "nbformat_minor": 4
}