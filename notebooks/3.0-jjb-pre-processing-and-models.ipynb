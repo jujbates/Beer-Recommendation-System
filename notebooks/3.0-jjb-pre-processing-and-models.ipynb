{
 "cells": [
  {
   "cell_type": "code",
   "execution_count": 1,
   "metadata": {
    "pycharm": {
     "name": "#%%\n"
    }
   },
   "outputs": [],
   "source": [
    "import awswrangler as wr\n",
    "# import lux\n",
    "import pandas as pd\n",
    "import numpy as np\n",
    "import copy\n",
    "import pickle\n",
    "\n",
    "\n",
    "import matplotlib.pyplot as plt\n",
    "import seaborn as sns\n",
    "%matplotlib inline\n",
    "\n",
    "from surprise import SVD, KNNBasic, NMF\n",
    "from surprise import Dataset\n",
    "from surprise import Reader\n",
    "from surprise import accuracy\n",
    "from surprise import KNNBaseline, SVD\n",
    "from surprise import get_dataset_dir\n",
    "from surprise.model_selection import KFold\n",
    "from surprise.model_selection import cross_validate\n",
    "from surprise.model_selection import train_test_split\n",
    "from surprise.model_selection import GridSearchCV\n",
    "\n",
    "from sklearn.preprocessing import StandardScaler\n",
    "from sklearn.preprocessing import Normalizer\n",
    "from sklearn.decomposition import TruncatedSVD\n",
    "\n",
    "\n",
    "\n",
    "import warnings\n",
    "warnings.filterwarnings(\"ignore\")"
   ]
  },
  {
   "cell_type": "code",
   "execution_count": 2,
   "metadata": {
    "pycharm": {
     "name": "#%%\n"
    }
   },
   "outputs": [],
   "source": [
    "filename = '../data/processed/final_beer_df.plk'\n",
    "final_df = pd.read_pickle(filename)\n"
   ]
  },
  {
   "cell_type": "code",
   "execution_count": 3,
   "metadata": {
    "pycharm": {
     "name": "#%%\n"
    }
   },
   "outputs": [
    {
     "name": "stdout",
     "output_type": "stream",
     "text": [
      "<class 'pandas.core.frame.DataFrame'>\n",
      "Int64Index: 3405148 entries, 0 to 4026233\n",
      "Data columns (total 11 columns):\n",
      " #   Column          Dtype  \n",
      "---  ------          -----  \n",
      " 0   brewery_name    string \n",
      " 1   beer_name       string \n",
      " 2   beer_style      string \n",
      " 3   beer_sub_style  string \n",
      " 4   user_name       string \n",
      " 5   user_rating     float64\n",
      " 6   rating          float64\n",
      " 7   rating_count    Int64  \n",
      " 8   review_count    Int64  \n",
      " 9   ba_score        float64\n",
      " 10  abv             float64\n",
      "dtypes: Int64(2), float64(4), string(5)\n",
      "memory usage: 318.2 MB\n"
     ]
    }
   ],
   "source": [
    "final_df.info()\n"
   ]
  },
  {
   "cell_type": "code",
   "execution_count": 4,
   "metadata": {
    "pycharm": {
     "name": "#%%\n"
    }
   },
   "outputs": [
    {
     "name": "stdout",
     "output_type": "stream",
     "text": [
      "Original number of unique beers: 8216\n",
      "Revised number of unique beers: 8216\n"
     ]
    }
   ],
   "source": [
    "print('Original number of unique beers: {}'.format(len(final_df.beer_name.unique())))\n",
    "\n",
    "print('Revised number of unique beers: {}'.format(len(final_df.beer_name.unique())))\n"
   ]
  },
  {
   "cell_type": "code",
   "execution_count": 5,
   "metadata": {},
   "outputs": [
    {
     "data": {
      "text/html": [
       "<div>\n",
       "<style scoped>\n",
       "    .dataframe tbody tr th:only-of-type {\n",
       "        vertical-align: middle;\n",
       "    }\n",
       "\n",
       "    .dataframe tbody tr th {\n",
       "        vertical-align: top;\n",
       "    }\n",
       "\n",
       "    .dataframe thead th {\n",
       "        text-align: right;\n",
       "    }\n",
       "</style>\n",
       "<table border=\"1\" class=\"dataframe\">\n",
       "  <thead>\n",
       "    <tr style=\"text-align: right;\">\n",
       "      <th></th>\n",
       "      <th>brewery_name</th>\n",
       "      <th>beer_name</th>\n",
       "      <th>beer_style</th>\n",
       "      <th>beer_sub_style</th>\n",
       "      <th>user_name</th>\n",
       "      <th>user_rating</th>\n",
       "      <th>rating</th>\n",
       "      <th>rating_count</th>\n",
       "      <th>review_count</th>\n",
       "      <th>ba_score</th>\n",
       "      <th>abv</th>\n",
       "    </tr>\n",
       "  </thead>\n",
       "  <tbody>\n",
       "    <tr>\n",
       "      <th>0</th>\n",
       "      <td>Goose Island Beer Co.</td>\n",
       "      <td>Honker's Ale</td>\n",
       "      <td>Pale Ales</td>\n",
       "      <td>Bitter - English</td>\n",
       "      <td>StanleysCup</td>\n",
       "      <td>3.77</td>\n",
       "      <td>3.67</td>\n",
       "      <td>3987</td>\n",
       "      <td>1144</td>\n",
       "      <td>83.0</td>\n",
       "      <td>4.3</td>\n",
       "    </tr>\n",
       "    <tr>\n",
       "      <th>1</th>\n",
       "      <td>Goose Island Beer Co.</td>\n",
       "      <td>Honker's Ale</td>\n",
       "      <td>Pale Ales</td>\n",
       "      <td>Bitter - English</td>\n",
       "      <td>TwilightBeerCareer</td>\n",
       "      <td>3.58</td>\n",
       "      <td>3.67</td>\n",
       "      <td>3987</td>\n",
       "      <td>1144</td>\n",
       "      <td>83.0</td>\n",
       "      <td>4.3</td>\n",
       "    </tr>\n",
       "    <tr>\n",
       "      <th>2</th>\n",
       "      <td>Goose Island Beer Co.</td>\n",
       "      <td>Honker's Ale</td>\n",
       "      <td>Pale Ales</td>\n",
       "      <td>Bitter - English</td>\n",
       "      <td>Chipwells</td>\n",
       "      <td>3.50</td>\n",
       "      <td>3.67</td>\n",
       "      <td>3987</td>\n",
       "      <td>1144</td>\n",
       "      <td>83.0</td>\n",
       "      <td>4.3</td>\n",
       "    </tr>\n",
       "    <tr>\n",
       "      <th>3</th>\n",
       "      <td>Goose Island Beer Co.</td>\n",
       "      <td>Honker's Ale</td>\n",
       "      <td>Pale Ales</td>\n",
       "      <td>Bitter - English</td>\n",
       "      <td>GaryM6</td>\n",
       "      <td>3.62</td>\n",
       "      <td>3.67</td>\n",
       "      <td>3987</td>\n",
       "      <td>1144</td>\n",
       "      <td>83.0</td>\n",
       "      <td>4.3</td>\n",
       "    </tr>\n",
       "    <tr>\n",
       "      <th>4</th>\n",
       "      <td>Goose Island Beer Co.</td>\n",
       "      <td>Honker's Ale</td>\n",
       "      <td>Pale Ales</td>\n",
       "      <td>Bitter - English</td>\n",
       "      <td>uncleotis</td>\n",
       "      <td>3.82</td>\n",
       "      <td>3.67</td>\n",
       "      <td>3987</td>\n",
       "      <td>1144</td>\n",
       "      <td>83.0</td>\n",
       "      <td>4.3</td>\n",
       "    </tr>\n",
       "    <tr>\n",
       "      <th>...</th>\n",
       "      <td>...</td>\n",
       "      <td>...</td>\n",
       "      <td>...</td>\n",
       "      <td>...</td>\n",
       "      <td>...</td>\n",
       "      <td>...</td>\n",
       "      <td>...</td>\n",
       "      <td>...</td>\n",
       "      <td>...</td>\n",
       "      <td>...</td>\n",
       "      <td>...</td>\n",
       "    </tr>\n",
       "    <tr>\n",
       "      <th>4026229</th>\n",
       "      <td>Funky Buddha Brewery</td>\n",
       "      <td>Last Buffalo In The Park</td>\n",
       "      <td>Porters</td>\n",
       "      <td>Porter - Imperial *</td>\n",
       "      <td>XmnwildX12</td>\n",
       "      <td>4.73</td>\n",
       "      <td>4.56</td>\n",
       "      <td>896</td>\n",
       "      <td>136</td>\n",
       "      <td>100.0</td>\n",
       "      <td>11.5</td>\n",
       "    </tr>\n",
       "    <tr>\n",
       "      <th>4026230</th>\n",
       "      <td>Funky Buddha Brewery</td>\n",
       "      <td>Last Buffalo In The Park</td>\n",
       "      <td>Porters</td>\n",
       "      <td>Porter - Imperial *</td>\n",
       "      <td>Hawkfish</td>\n",
       "      <td>4.62</td>\n",
       "      <td>4.56</td>\n",
       "      <td>896</td>\n",
       "      <td>136</td>\n",
       "      <td>100.0</td>\n",
       "      <td>11.5</td>\n",
       "    </tr>\n",
       "    <tr>\n",
       "      <th>4026231</th>\n",
       "      <td>Funky Buddha Brewery</td>\n",
       "      <td>Last Buffalo In The Park</td>\n",
       "      <td>Porters</td>\n",
       "      <td>Porter - Imperial *</td>\n",
       "      <td>Appearanceswc</td>\n",
       "      <td>4.73</td>\n",
       "      <td>4.56</td>\n",
       "      <td>896</td>\n",
       "      <td>136</td>\n",
       "      <td>100.0</td>\n",
       "      <td>11.5</td>\n",
       "    </tr>\n",
       "    <tr>\n",
       "      <th>4026232</th>\n",
       "      <td>Funky Buddha Brewery</td>\n",
       "      <td>Last Buffalo In The Park</td>\n",
       "      <td>Porters</td>\n",
       "      <td>Porter - Imperial *</td>\n",
       "      <td>paulish</td>\n",
       "      <td>4.75</td>\n",
       "      <td>4.56</td>\n",
       "      <td>896</td>\n",
       "      <td>136</td>\n",
       "      <td>100.0</td>\n",
       "      <td>11.5</td>\n",
       "    </tr>\n",
       "    <tr>\n",
       "      <th>4026233</th>\n",
       "      <td>Funky Buddha Brewery</td>\n",
       "      <td>Last Buffalo In The Park</td>\n",
       "      <td>Porters</td>\n",
       "      <td>Porter - Imperial *</td>\n",
       "      <td>hopley</td>\n",
       "      <td>4.19</td>\n",
       "      <td>4.56</td>\n",
       "      <td>896</td>\n",
       "      <td>136</td>\n",
       "      <td>100.0</td>\n",
       "      <td>11.5</td>\n",
       "    </tr>\n",
       "  </tbody>\n",
       "</table>\n",
       "<p>3405148 rows × 11 columns</p>\n",
       "</div>"
      ],
      "text/plain": [
       "                  brewery_name                 beer_name beer_style  \\\n",
       "0        Goose Island Beer Co.              Honker's Ale  Pale Ales   \n",
       "1        Goose Island Beer Co.              Honker's Ale  Pale Ales   \n",
       "2        Goose Island Beer Co.              Honker's Ale  Pale Ales   \n",
       "3        Goose Island Beer Co.              Honker's Ale  Pale Ales   \n",
       "4        Goose Island Beer Co.              Honker's Ale  Pale Ales   \n",
       "...                        ...                       ...        ...   \n",
       "4026229   Funky Buddha Brewery  Last Buffalo In The Park    Porters   \n",
       "4026230   Funky Buddha Brewery  Last Buffalo In The Park    Porters   \n",
       "4026231   Funky Buddha Brewery  Last Buffalo In The Park    Porters   \n",
       "4026232   Funky Buddha Brewery  Last Buffalo In The Park    Porters   \n",
       "4026233   Funky Buddha Brewery  Last Buffalo In The Park    Porters   \n",
       "\n",
       "              beer_sub_style           user_name  user_rating  rating  \\\n",
       "0           Bitter - English         StanleysCup         3.77    3.67   \n",
       "1           Bitter - English  TwilightBeerCareer         3.58    3.67   \n",
       "2           Bitter - English           Chipwells         3.50    3.67   \n",
       "3           Bitter - English              GaryM6         3.62    3.67   \n",
       "4           Bitter - English           uncleotis         3.82    3.67   \n",
       "...                      ...                 ...          ...     ...   \n",
       "4026229  Porter - Imperial *          XmnwildX12         4.73    4.56   \n",
       "4026230  Porter - Imperial *            Hawkfish         4.62    4.56   \n",
       "4026231  Porter - Imperial *       Appearanceswc         4.73    4.56   \n",
       "4026232  Porter - Imperial *             paulish         4.75    4.56   \n",
       "4026233  Porter - Imperial *              hopley         4.19    4.56   \n",
       "\n",
       "         rating_count  review_count  ba_score   abv  \n",
       "0                3987          1144      83.0   4.3  \n",
       "1                3987          1144      83.0   4.3  \n",
       "2                3987          1144      83.0   4.3  \n",
       "3                3987          1144      83.0   4.3  \n",
       "4                3987          1144      83.0   4.3  \n",
       "...               ...           ...       ...   ...  \n",
       "4026229           896           136     100.0  11.5  \n",
       "4026230           896           136     100.0  11.5  \n",
       "4026231           896           136     100.0  11.5  \n",
       "4026232           896           136     100.0  11.5  \n",
       "4026233           896           136     100.0  11.5  \n",
       "\n",
       "[3405148 rows x 11 columns]"
      ]
     },
     "execution_count": 5,
     "metadata": {},
     "output_type": "execute_result"
    }
   ],
   "source": [
    "final_df"
   ]
  },
  {
   "cell_type": "code",
   "execution_count": 6,
   "metadata": {
    "pycharm": {
     "name": "#%%\n"
    }
   },
   "outputs": [],
   "source": [
    "\n",
    "\n",
    "# create beerID for each beer\n",
    "\n",
    "grouped_name = final_df.groupby('beer_name')\n",
    "\n",
    "temp_df = grouped_name.count()\n",
    "temp_df_idx = pd.DataFrame(temp_df.index)\n",
    "\n",
    "\n",
    "temp_df_idx['beer_id'] = temp_df_idx.index\n",
    "dict_df=temp_df_idx[['beer_id','beer_name']]\n",
    "\n",
    "\n",
    "desc_dict = dict_df.set_index('beer_name').to_dict()\n",
    "new_dict = desc_dict['beer_id']\n",
    "\n",
    "final_df['beer_id'] = final_df.beer_name.map(new_dict)\n",
    "\n",
    "\n",
    "\n",
    "# create userID for each user\n",
    "grouped_user = final_df.groupby('user_name')\n",
    "\n",
    "temp_df_user = grouped_user.count()\n",
    "temp_df_user_idx = pd.DataFrame(temp_df_user.index)\n",
    "\n",
    "\n",
    "temp_df_user_idx['user_id'] = temp_df_user_idx.index\n",
    "dict_df_user = temp_df_user_idx[['user_id','user_name']] \n",
    "\n",
    "\n",
    "desc_dict_user = dict_df_user.set_index('user_name').to_dict()\n",
    "new_dict_user = desc_dict_user['user_id']\n",
    "\n",
    "final_df['user_id'] = final_df.user_name.map(new_dict_user)"
   ]
  },
  {
   "cell_type": "code",
   "execution_count": 7,
   "metadata": {
    "pycharm": {
     "name": "#%%\n"
    }
   },
   "outputs": [],
   "source": [
    "\n",
    "def read_item_names():\n",
    "    \"\"\"\n",
    "    return raw ids  beer names into raw ids.\n",
    "    \"\"\"\n",
    "\n",
    "\n",
    "    file_name = dict_df\n",
    "    rid_to_name = {}\n",
    "    name_to_rid = {}\n",
    "\n",
    "    # there are 3959 unique beers after removing the low rating and review count beers\n",
    "    unique_beers = len(final_df.beer_name.unique())\n",
    "    \n",
    "    for i in range(unique_beers):  \n",
    "        line = file_name.iloc[i]\n",
    "        rid_to_name[line[0]] = line[1]\n",
    "        name_to_rid[line[1]] = line[0]\n",
    "\n",
    "    return rid_to_name, name_to_rid\n"
   ]
  },
  {
   "cell_type": "markdown",
   "metadata": {},
   "source": [
    "The following functions are from \n",
    "https://surprise.readthedocs.io/en/stable/FAQ.html \n",
    "and change slightly for my use case."
   ]
  },
  {
   "cell_type": "code",
   "execution_count": 8,
   "metadata": {
    "pycharm": {
     "name": "#%%\n"
    }
   },
   "outputs": [],
   "source": [
    "def get_top_n(beer_name, k):\n",
    "    \"\"\"\n",
    "    Input Beer name and returns k recommendations\n",
    "    based on item similarity\n",
    "    \n",
    "    Input: String, integer\n",
    "    Output: String\n",
    "    \"\"\"\n",
    "    \n",
    "    rid_to_name, name_to_rid = read_item_names()\n",
    "\n",
    "    beer_input_raw_id = name_to_rid[beer_name]\n",
    "    beer_input_inner_id = algo.trainset.to_inner_iid(beer_input_raw_id)\n",
    "\n",
    "        \n",
    "    beer_input_neighbors = algo.get_neighbors(beer_input_inner_id, k=k)\n",
    "\n",
    "    beer_input_neighbors = (algo.trainset.to_raw_iid(inner_id) for inner_id in beer_input_neighbors)\n",
    "    \n",
    "    beer_input_neighbors = (rid_to_name[rid]  for rid in beer_input_neighbors)\n",
    "\n",
    "        \n",
    "    return list(beer_input_neighbors)"
   ]
  },
  {
   "cell_type": "code",
   "execution_count": 9,
   "metadata": {
    "pycharm": {
     "name": "#%%\n"
    }
   },
   "outputs": [
    {
     "name": "stdout",
     "output_type": "stream",
     "text": [
      "Estimating biases using als...\n",
      "Computing the pearson_baseline similarity matrix...\n",
      "Done computing similarity matrix.\n"
     ]
    },
    {
     "data": {
      "text/plain": [
       "<surprise.prediction_algorithms.knns.KNNBaseline at 0x7fd8025c74d0>"
      ]
     },
     "execution_count": 9,
     "metadata": {},
     "output_type": "execute_result"
    }
   ],
   "source": [
    "reader = Reader(rating_scale=(1,5))\n",
    "data = Dataset.load_from_df(final_df[['user_id', 'beer_id', 'user_rating']], reader)\n",
    "trainset = data.build_full_trainset()\n",
    "sim_options = {'name': 'pearson_baseline', 'user_based': False}\n",
    "algo = KNNBaseline(sim_options=sim_options)\n",
    "algo.fit(trainset)\n"
   ]
  },
  {
   "cell_type": "code",
   "execution_count": 10,
   "metadata": {
    "pycharm": {
     "name": "#%%\n"
    }
   },
   "outputs": [
    {
     "name": "stdout",
     "output_type": "stream",
     "text": [
      "Estimating biases using als...\n",
      "Computing the pearson_baseline similarity matrix...\n",
      "Done computing similarity matrix.\n",
      "Estimating biases using als...\n",
      "Computing the pearson_baseline similarity matrix...\n",
      "Done computing similarity matrix.\n",
      "Estimating biases using als...\n",
      "Computing the pearson_baseline similarity matrix...\n",
      "Done computing similarity matrix.\n",
      "Estimating biases using als...\n",
      "Computing the pearson_baseline similarity matrix...\n",
      "Done computing similarity matrix.\n",
      "Estimating biases using als...\n",
      "Computing the pearson_baseline similarity matrix...\n",
      "Done computing similarity matrix.\n",
      "Evaluating RMSE, MAE of algorithm KNNBaseline on 5 split(s).\n",
      "\n",
      "                  Fold 1  Fold 2  Fold 3  Fold 4  Fold 5  Mean    Std     \n",
      "RMSE (testset)    0.1319  0.1321  0.1314  0.1316  0.1315  0.1317  0.0003  \n",
      "MAE (testset)     0.0548  0.0549  0.0546  0.0547  0.0547  0.0547  0.0001  \n",
      "Fit time          231.64  229.40  232.90  218.15  220.06  226.43  6.11    \n",
      "Test time         913.56  893.28  867.97  866.70  866.21  881.54  18.99   \n"
     ]
    },
    {
     "data": {
      "text/plain": [
       "{'test_rmse': array([0.13193311, 0.13206942, 0.13138204, 0.13158857, 0.13149125]),\n",
       " 'test_mae': array([0.05484153, 0.05492662, 0.05458134, 0.05473659, 0.05465127]),\n",
       " 'fit_time': (231.63984990119934,\n",
       "  229.4035792350769,\n",
       "  232.89582896232605,\n",
       "  218.15292072296143,\n",
       "  220.06071996688843),\n",
       " 'test_time': (913.5596232414246,\n",
       "  893.275573015213,\n",
       "  867.9717540740967,\n",
       "  866.6980929374695,\n",
       "  866.2086560726166)}"
      ]
     },
     "execution_count": 10,
     "metadata": {},
     "output_type": "execute_result"
    }
   ],
   "source": [
    "\n",
    "# Run 5-fold cross-validation and print results\n",
    "cross_validate(algo, data, measures=['RMSE', 'MAE'], cv=5, verbose=True)\n"
   ]
  },
  {
   "cell_type": "code",
   "execution_count": null,
   "metadata": {},
   "outputs": [],
   "source": []
  },
  {
   "cell_type": "code",
   "execution_count": 11,
   "metadata": {
    "pycharm": {
     "name": "#%%\n"
    }
   },
   "outputs": [
    {
     "data": {
      "text/plain": [
       "['Porter',\n",
       " 'Pale Ale',\n",
       " 'Oktoberfest',\n",
       " 'KBS (Kentucky Breakfast Stout)',\n",
       " 'Bourbon County Brand Stout',\n",
       " 'Zombie Dust',\n",
       " 'Ten FIDY',\n",
       " 'Abt 12',\n",
       " 'Trappistes Rochefort 10',\n",
       " 'Samuel Adams Boston Lager',\n",
       " 'Christmas Ale',\n",
       " 'Fat Tire Amber Ale',\n",
       " 'IPA',\n",
       " 'Hefeweissbier',\n",
       " 'Pumpkin Ale',\n",
       " 'Backwoods Bastard',\n",
       " 'Nugget Nectar',\n",
       " 'Nut Brown Ale',\n",
       " 'Dirty Bastard',\n",
       " 'Samuel Adams Octoberfest',\n",
       " 'Dead Guy Ale']"
      ]
     },
     "execution_count": 11,
     "metadata": {},
     "output_type": "execute_result"
    }
   ],
   "source": [
    "# top 20 most rated beers\n",
    "grouped_beer_names = final_df.groupby('beer_name')\n",
    "grouped_beer_names.count().sort_values(by='user_name', ascending=False)[0:21].index.tolist()"
   ]
  },
  {
   "cell_type": "code",
   "execution_count": 12,
   "metadata": {
    "pycharm": {
     "name": "#%%\n"
    }
   },
   "outputs": [
    {
     "data": {
      "text/plain": [
       "['Vanilla Bean Assassin',\n",
       " 'Barrel Aged Imperial German Chocolate Cupcake Stout',\n",
       " 'Blessed',\n",
       " 'Ann',\n",
       " 'Maman',\n",
       " 'A Deal With The Devil - Double Oak-Aged',\n",
       " 'Hypermash Hydra',\n",
       " 'Assassin',\n",
       " 'Bourbon County Brand Stout',\n",
       " 'Anabasis',\n",
       " \"Mornin' Delight\",\n",
       " 'Everett (Barrel Aged)',\n",
       " 'Trappist Westvleteren 12 (XII)',\n",
       " 'Barrel-Aged Abraxas',\n",
       " 'Aaron',\n",
       " 'CBS (Canadian Breakfast Stout)',\n",
       " 'Barrel-Aged Henna - Double Rainbow',\n",
       " 'It Was All A Dream',\n",
       " 'Kentucky Brunch Brand Stout',\n",
       " 'West Ashley',\n",
       " 'Rare Scooop']"
      ]
     },
     "execution_count": 12,
     "metadata": {},
     "output_type": "execute_result"
    }
   ],
   "source": [
    "grouped_beer_names.mean().sort_values(by='user_rating', ascending=False)[0:21].index.tolist()"
   ]
  },
  {
   "cell_type": "code",
   "execution_count": 13,
   "metadata": {
    "pycharm": {
     "name": "#%%\n"
    }
   },
   "outputs": [
    {
     "data": {
      "text/plain": [
       "['Victory At Sea - Coffee And Vanilla',\n",
       " 'Leffe Blonde',\n",
       " 'Bigfoot',\n",
       " 'Bomb!',\n",
       " \"G'Knight\",\n",
       " 'Tap 6 Aventinus',\n",
       " 'Old Speckled Hen',\n",
       " 'Old Stock Ale',\n",
       " 'Hoegaarden Original White Ale',\n",
       " 'Scrimshaw Pilsner',\n",
       " 'Scotty Karate Scotch Ale',\n",
       " 'Fort',\n",
       " 'Traditional Lager',\n",
       " '1554',\n",
       " 'Espresso Oak Aged Yeti Imperial Stout',\n",
       " 'Jinx Proof',\n",
       " 'Brawler Champion Ale',\n",
       " 'Third Coast Beer',\n",
       " 'Asahi Super Dry',\n",
       " 'Mosaic Promise']"
      ]
     },
     "execution_count": 13,
     "metadata": {},
     "output_type": "execute_result"
    }
   ],
   "source": [
    "get_top_n('Pumpkin Ale', 20)"
   ]
  },
  {
   "cell_type": "code",
   "execution_count": 14,
   "metadata": {
    "pycharm": {
     "name": "#%%\n"
    }
   },
   "outputs": [
    {
     "data": {
      "text/plain": [
       "['Fort Point Pale Ale',\n",
       " \"Hunahpu's Imperial Stout\",\n",
       " 'Trappist Westvleteren 8 (VIII)',\n",
       " 'Hefeweizen',\n",
       " 'Harvest Ale (Limited Edition)',\n",
       " 'Apple Brandy Barrel Noir',\n",
       " 'Imperial Stout',\n",
       " 'CascaZilla',\n",
       " 'A Deal With The Devil',\n",
       " 'Flora - Blueberry',\n",
       " 'X',\n",
       " 'Art',\n",
       " \"Mornin' Delight\",\n",
       " 'A Night To End All Dawns',\n",
       " \"Peche 'n Brett\",\n",
       " 'Mocha Wednesday',\n",
       " 'Big Bad Baptista',\n",
       " 'Triple Shot',\n",
       " 'Traquair House Ale',\n",
       " 'Last Buffalo In The Park']"
      ]
     },
     "execution_count": 14,
     "metadata": {},
     "output_type": "execute_result"
    }
   ],
   "source": [
    "get_top_n('Vanilla Bean Assassin', 20)"
   ]
  },
  {
   "cell_type": "code",
   "execution_count": 15,
   "metadata": {
    "pycharm": {
     "name": "#%%\n"
    }
   },
   "outputs": [],
   "source": [
    "top20rated = final_df.groupby('beer_name').count().sort_values(by='user_name', ascending =False)[0:21].index.tolist()\n",
    "top20rated = set(top20rated)\n",
    "\n",
    "top20rating = final_df.groupby('beer_name').mean().sort_values(by='user_rating', ascending =False)[0:21].index.tolist()\n",
    "top20rating = set(top20rating)\n",
    "\n",
    "beer_1 = set(get_top_n('Ichabod Ale',20))\n",
    "beer_2 = set(get_top_n('Jinx',20))\n"
   ]
  },
  {
   "cell_type": "code",
   "execution_count": 16,
   "metadata": {
    "pycharm": {
     "name": "#%%\n"
    }
   },
   "outputs": [
    {
     "name": "stdout",
     "output_type": "stream",
     "text": [
      "set()\n",
      "set()\n"
     ]
    }
   ],
   "source": [
    "print(beer_1.intersection(top20rated))\n",
    "print(beer_1.intersection(top20rating))\n"
   ]
  },
  {
   "cell_type": "code",
   "execution_count": 17,
   "metadata": {
    "pycharm": {
     "name": "#%%\n"
    }
   },
   "outputs": [
    {
     "name": "stdout",
     "output_type": "stream",
     "text": [
      "{'Fat Tire Amber Ale'}\n",
      "set()\n"
     ]
    }
   ],
   "source": [
    "print(beer_2.intersection(top20rated))\n",
    "print(beer_2.intersection(top20rating))"
   ]
  },
  {
   "cell_type": "code",
   "execution_count": 18,
   "metadata": {
    "pycharm": {
     "name": "#%%\n"
    }
   },
   "outputs": [],
   "source": [
    "final_df_pivot = final_df.pivot_table(index='user_name', columns='beer_name', values='user_rating').fillna(0)"
   ]
  },
  {
   "cell_type": "code",
   "execution_count": 19,
   "metadata": {},
   "outputs": [
    {
     "data": {
      "text/html": [
       "<div>\n",
       "<style scoped>\n",
       "    .dataframe tbody tr th:only-of-type {\n",
       "        vertical-align: middle;\n",
       "    }\n",
       "\n",
       "    .dataframe tbody tr th {\n",
       "        vertical-align: top;\n",
       "    }\n",
       "\n",
       "    .dataframe thead th {\n",
       "        text-align: right;\n",
       "    }\n",
       "</style>\n",
       "<table border=\"1\" class=\"dataframe\">\n",
       "  <thead>\n",
       "    <tr style=\"text-align: right;\">\n",
       "      <th></th>\n",
       "      <th>brewery_name</th>\n",
       "      <th>beer_name</th>\n",
       "      <th>beer_style</th>\n",
       "      <th>beer_sub_style</th>\n",
       "      <th>user_name</th>\n",
       "      <th>user_rating</th>\n",
       "      <th>rating</th>\n",
       "      <th>rating_count</th>\n",
       "      <th>review_count</th>\n",
       "      <th>ba_score</th>\n",
       "      <th>abv</th>\n",
       "      <th>beer_id</th>\n",
       "      <th>user_id</th>\n",
       "    </tr>\n",
       "  </thead>\n",
       "  <tbody>\n",
       "    <tr>\n",
       "      <th>0</th>\n",
       "      <td>Goose Island Beer Co.</td>\n",
       "      <td>Honker's Ale</td>\n",
       "      <td>Pale Ales</td>\n",
       "      <td>Bitter - English</td>\n",
       "      <td>StanleysCup</td>\n",
       "      <td>3.77</td>\n",
       "      <td>3.67</td>\n",
       "      <td>3987</td>\n",
       "      <td>1144</td>\n",
       "      <td>83.0</td>\n",
       "      <td>4.3</td>\n",
       "      <td>3451</td>\n",
       "      <td>14937</td>\n",
       "    </tr>\n",
       "    <tr>\n",
       "      <th>1</th>\n",
       "      <td>Goose Island Beer Co.</td>\n",
       "      <td>Honker's Ale</td>\n",
       "      <td>Pale Ales</td>\n",
       "      <td>Bitter - English</td>\n",
       "      <td>TwilightBeerCareer</td>\n",
       "      <td>3.58</td>\n",
       "      <td>3.67</td>\n",
       "      <td>3987</td>\n",
       "      <td>1144</td>\n",
       "      <td>83.0</td>\n",
       "      <td>4.3</td>\n",
       "      <td>3451</td>\n",
       "      <td>16404</td>\n",
       "    </tr>\n",
       "    <tr>\n",
       "      <th>2</th>\n",
       "      <td>Goose Island Beer Co.</td>\n",
       "      <td>Honker's Ale</td>\n",
       "      <td>Pale Ales</td>\n",
       "      <td>Bitter - English</td>\n",
       "      <td>Chipwells</td>\n",
       "      <td>3.50</td>\n",
       "      <td>3.67</td>\n",
       "      <td>3987</td>\n",
       "      <td>1144</td>\n",
       "      <td>83.0</td>\n",
       "      <td>4.3</td>\n",
       "      <td>3451</td>\n",
       "      <td>3365</td>\n",
       "    </tr>\n",
       "    <tr>\n",
       "      <th>3</th>\n",
       "      <td>Goose Island Beer Co.</td>\n",
       "      <td>Honker's Ale</td>\n",
       "      <td>Pale Ales</td>\n",
       "      <td>Bitter - English</td>\n",
       "      <td>GaryM6</td>\n",
       "      <td>3.62</td>\n",
       "      <td>3.67</td>\n",
       "      <td>3987</td>\n",
       "      <td>1144</td>\n",
       "      <td>83.0</td>\n",
       "      <td>4.3</td>\n",
       "      <td>3451</td>\n",
       "      <td>6123</td>\n",
       "    </tr>\n",
       "    <tr>\n",
       "      <th>4</th>\n",
       "      <td>Goose Island Beer Co.</td>\n",
       "      <td>Honker's Ale</td>\n",
       "      <td>Pale Ales</td>\n",
       "      <td>Bitter - English</td>\n",
       "      <td>uncleotis</td>\n",
       "      <td>3.82</td>\n",
       "      <td>3.67</td>\n",
       "      <td>3987</td>\n",
       "      <td>1144</td>\n",
       "      <td>83.0</td>\n",
       "      <td>4.3</td>\n",
       "      <td>3451</td>\n",
       "      <td>28872</td>\n",
       "    </tr>\n",
       "    <tr>\n",
       "      <th>...</th>\n",
       "      <td>...</td>\n",
       "      <td>...</td>\n",
       "      <td>...</td>\n",
       "      <td>...</td>\n",
       "      <td>...</td>\n",
       "      <td>...</td>\n",
       "      <td>...</td>\n",
       "      <td>...</td>\n",
       "      <td>...</td>\n",
       "      <td>...</td>\n",
       "      <td>...</td>\n",
       "      <td>...</td>\n",
       "      <td>...</td>\n",
       "    </tr>\n",
       "    <tr>\n",
       "      <th>4026229</th>\n",
       "      <td>Funky Buddha Brewery</td>\n",
       "      <td>Last Buffalo In The Park</td>\n",
       "      <td>Porters</td>\n",
       "      <td>Porter - Imperial *</td>\n",
       "      <td>XmnwildX12</td>\n",
       "      <td>4.73</td>\n",
       "      <td>4.56</td>\n",
       "      <td>896</td>\n",
       "      <td>136</td>\n",
       "      <td>100.0</td>\n",
       "      <td>11.5</td>\n",
       "      <td>4216</td>\n",
       "      <td>17176</td>\n",
       "    </tr>\n",
       "    <tr>\n",
       "      <th>4026230</th>\n",
       "      <td>Funky Buddha Brewery</td>\n",
       "      <td>Last Buffalo In The Park</td>\n",
       "      <td>Porters</td>\n",
       "      <td>Porter - Imperial *</td>\n",
       "      <td>Hawkfish</td>\n",
       "      <td>4.62</td>\n",
       "      <td>4.56</td>\n",
       "      <td>896</td>\n",
       "      <td>136</td>\n",
       "      <td>100.0</td>\n",
       "      <td>11.5</td>\n",
       "      <td>4216</td>\n",
       "      <td>6795</td>\n",
       "    </tr>\n",
       "    <tr>\n",
       "      <th>4026231</th>\n",
       "      <td>Funky Buddha Brewery</td>\n",
       "      <td>Last Buffalo In The Park</td>\n",
       "      <td>Porters</td>\n",
       "      <td>Porter - Imperial *</td>\n",
       "      <td>Appearanceswc</td>\n",
       "      <td>4.73</td>\n",
       "      <td>4.56</td>\n",
       "      <td>896</td>\n",
       "      <td>136</td>\n",
       "      <td>100.0</td>\n",
       "      <td>11.5</td>\n",
       "      <td>4216</td>\n",
       "      <td>858</td>\n",
       "    </tr>\n",
       "    <tr>\n",
       "      <th>4026232</th>\n",
       "      <td>Funky Buddha Brewery</td>\n",
       "      <td>Last Buffalo In The Park</td>\n",
       "      <td>Porters</td>\n",
       "      <td>Porter - Imperial *</td>\n",
       "      <td>paulish</td>\n",
       "      <td>4.75</td>\n",
       "      <td>4.56</td>\n",
       "      <td>896</td>\n",
       "      <td>136</td>\n",
       "      <td>100.0</td>\n",
       "      <td>11.5</td>\n",
       "      <td>4216</td>\n",
       "      <td>26027</td>\n",
       "    </tr>\n",
       "    <tr>\n",
       "      <th>4026233</th>\n",
       "      <td>Funky Buddha Brewery</td>\n",
       "      <td>Last Buffalo In The Park</td>\n",
       "      <td>Porters</td>\n",
       "      <td>Porter - Imperial *</td>\n",
       "      <td>hopley</td>\n",
       "      <td>4.19</td>\n",
       "      <td>4.56</td>\n",
       "      <td>896</td>\n",
       "      <td>136</td>\n",
       "      <td>100.0</td>\n",
       "      <td>11.5</td>\n",
       "      <td>4216</td>\n",
       "      <td>22291</td>\n",
       "    </tr>\n",
       "  </tbody>\n",
       "</table>\n",
       "<p>3405148 rows × 13 columns</p>\n",
       "</div>"
      ],
      "text/plain": [
       "                  brewery_name                 beer_name beer_style  \\\n",
       "0        Goose Island Beer Co.              Honker's Ale  Pale Ales   \n",
       "1        Goose Island Beer Co.              Honker's Ale  Pale Ales   \n",
       "2        Goose Island Beer Co.              Honker's Ale  Pale Ales   \n",
       "3        Goose Island Beer Co.              Honker's Ale  Pale Ales   \n",
       "4        Goose Island Beer Co.              Honker's Ale  Pale Ales   \n",
       "...                        ...                       ...        ...   \n",
       "4026229   Funky Buddha Brewery  Last Buffalo In The Park    Porters   \n",
       "4026230   Funky Buddha Brewery  Last Buffalo In The Park    Porters   \n",
       "4026231   Funky Buddha Brewery  Last Buffalo In The Park    Porters   \n",
       "4026232   Funky Buddha Brewery  Last Buffalo In The Park    Porters   \n",
       "4026233   Funky Buddha Brewery  Last Buffalo In The Park    Porters   \n",
       "\n",
       "              beer_sub_style           user_name  user_rating  rating  \\\n",
       "0           Bitter - English         StanleysCup         3.77    3.67   \n",
       "1           Bitter - English  TwilightBeerCareer         3.58    3.67   \n",
       "2           Bitter - English           Chipwells         3.50    3.67   \n",
       "3           Bitter - English              GaryM6         3.62    3.67   \n",
       "4           Bitter - English           uncleotis         3.82    3.67   \n",
       "...                      ...                 ...          ...     ...   \n",
       "4026229  Porter - Imperial *          XmnwildX12         4.73    4.56   \n",
       "4026230  Porter - Imperial *            Hawkfish         4.62    4.56   \n",
       "4026231  Porter - Imperial *       Appearanceswc         4.73    4.56   \n",
       "4026232  Porter - Imperial *             paulish         4.75    4.56   \n",
       "4026233  Porter - Imperial *              hopley         4.19    4.56   \n",
       "\n",
       "         rating_count  review_count  ba_score   abv  beer_id  user_id  \n",
       "0                3987          1144      83.0   4.3     3451    14937  \n",
       "1                3987          1144      83.0   4.3     3451    16404  \n",
       "2                3987          1144      83.0   4.3     3451     3365  \n",
       "3                3987          1144      83.0   4.3     3451     6123  \n",
       "4                3987          1144      83.0   4.3     3451    28872  \n",
       "...               ...           ...       ...   ...      ...      ...  \n",
       "4026229           896           136     100.0  11.5     4216    17176  \n",
       "4026230           896           136     100.0  11.5     4216     6795  \n",
       "4026231           896           136     100.0  11.5     4216      858  \n",
       "4026232           896           136     100.0  11.5     4216    26027  \n",
       "4026233           896           136     100.0  11.5     4216    22291  \n",
       "\n",
       "[3405148 rows x 13 columns]"
      ]
     },
     "execution_count": 19,
     "metadata": {},
     "output_type": "execute_result"
    }
   ],
   "source": [
    "final_df"
   ]
  },
  {
   "cell_type": "code",
   "execution_count": 20,
   "metadata": {
    "pycharm": {
     "name": "#%%\n"
    }
   },
   "outputs": [
    {
     "name": "stdout",
     "output_type": "stream",
     "text": [
      "<class 'pandas.core.frame.DataFrame'>\n",
      "Index: 29616 entries, ------ to zzachm18\n",
      "Columns: 8216 entries, \"\"\"Admiral\"\" Stash\" to 日本から来たネコ (Some Cat From Japan)\n",
      "dtypes: float64(8216)\n",
      "memory usage: 1.8+ GB\n"
     ]
    }
   ],
   "source": [
    "final_df_pivot.info()\n"
   ]
  },
  {
   "cell_type": "code",
   "execution_count": 21,
   "metadata": {
    "pycharm": {
     "name": "#%%\n"
    }
   },
   "outputs": [
    {
     "data": {
      "text/plain": [
       "(8216, 29616)"
      ]
     },
     "execution_count": 21,
     "metadata": {},
     "output_type": "execute_result"
    }
   ],
   "source": [
    "final_df_pivot_T = final_df_pivot.values.T\n",
    "final_df_pivot_T.shape\n"
   ]
  },
  {
   "cell_type": "code",
   "execution_count": 22,
   "metadata": {
    "pycharm": {
     "name": "#%%\n"
    }
   },
   "outputs": [],
   "source": [
    "\n",
    "def exp_var(list_n_components):\n",
    "    \n",
    "    out = []\n",
    "    \n",
    "    for num in list_n_components:\n",
    "        SVD = TruncatedSVD(n_components=num,random_state=num)\n",
    "        SVD.fit_transform(final_df_pivot_T)\n",
    "        evar = np.sum(SVD.explained_variance_ratio_)\n",
    "        t = (num,evar)\n",
    "        out.append(t)\n",
    "    \n",
    "    return out"
   ]
  },
  {
   "cell_type": "code",
   "execution_count": 23,
   "metadata": {
    "pycharm": {
     "name": "#%%\n"
    }
   },
   "outputs": [],
   "source": [
    "n_comp = [5,10,20,50,100,200,300,400,600,900,1200]\n",
    "explained_variance = exp_var(n_comp)"
   ]
  },
  {
   "cell_type": "code",
   "execution_count": 24,
   "metadata": {
    "pycharm": {
     "name": "#%%\n"
    }
   },
   "outputs": [
    {
     "name": "stdout",
     "output_type": "stream",
     "text": [
      "(5, 0.024729628565855182)\n",
      "(10, 0.04082514005015338)\n",
      "(20, 0.06586834057091329)\n",
      "(50, 0.1169198307150372)\n",
      "(100, 0.17675228910228682)\n",
      "(200, 0.26342708728228764)\n",
      "(300, 0.32920699847508195)\n",
      "(400, 0.38329387400209436)\n",
      "(600, 0.469828610741911)\n",
      "(900, 0.5664451797965855)\n",
      "(1200, 0.6386898744232761)\n"
     ]
    },
    {
     "data": {
      "text/plain": [
       "[None, None, None, None, None, None, None, None, None, None, None]"
      ]
     },
     "execution_count": 24,
     "metadata": {},
     "output_type": "execute_result"
    }
   ],
   "source": [
    "[print(i) for i in explained_variance]\n"
   ]
  },
  {
   "cell_type": "code",
   "execution_count": 57,
   "metadata": {
    "pycharm": {
     "name": "#%%\n"
    }
   },
   "outputs": [
    {
     "data": {
      "text/plain": [
       "Text(0.5, 1.0, 'Percentage of Explained Variance by Component Count')"
      ]
     },
     "execution_count": 57,
     "metadata": {},
     "output_type": "execute_result"
    },
    {
     "data": {
      "image/png": "[encoded data removed]",
      "text/plain": [
       "<Figure size 432x288 with 1 Axes>"
      ]
     },
     "metadata": {
      "needs_background": "light"
     },
     "output_type": "display_data"
    }
   ],
   "source": [
    "x, y = zip(*explained_variance)\n",
    "plt.scatter(x, y)\n",
    "plt.xlabel('Component Count')\n",
    "plt.ylabel('Percentage of Explained Variance')\n",
    "plt.title(\"Percentage of Explained Variance by Component Count\")"
   ]
  },
  {
   "cell_type": "code",
   "execution_count": 26,
   "metadata": {
    "pycharm": {
     "name": "#%%\n"
    }
   },
   "outputs": [
    {
     "data": {
      "text/plain": [
       "(8216, 900)"
      ]
     },
     "execution_count": 26,
     "metadata": {},
     "output_type": "execute_result"
    }
   ],
   "source": [
    "SVD900 = TruncatedSVD(n_components=900, random_state=43)\n",
    "matrix900 = SVD900.fit_transform(final_df_pivot_T)\n",
    "matrix900.shape\n"
   ]
  },
  {
   "cell_type": "code",
   "execution_count": 27,
   "metadata": {
    "pycharm": {
     "name": "#%%\n"
    }
   },
   "outputs": [
    {
     "data": {
      "text/plain": [
       "(8216, 8216)"
      ]
     },
     "execution_count": 27,
     "metadata": {},
     "output_type": "execute_result"
    }
   ],
   "source": [
    "corr900 = np.corrcoef(matrix900)\n",
    "corr900.shape"
   ]
  },
  {
   "cell_type": "code",
   "execution_count": 28,
   "metadata": {
    "pycharm": {
     "name": "#%%\n"
    }
   },
   "outputs": [],
   "source": [
    "\n",
    "# name of all beers\n",
    "beer_rec_names900 = final_df_pivot.columns\n",
    "\n",
    "# list of all beer names\n",
    "beer_rec_list900 = list(beer_rec_names900)"
   ]
  },
  {
   "cell_type": "code",
   "execution_count": 29,
   "metadata": {
    "pycharm": {
     "name": "#%%\n"
    }
   },
   "outputs": [],
   "source": [
    "def svd900_top_n(string, n):\n",
    "    \n",
    "    # get index of beer name from list of all beers in the training data\n",
    "    get_index = beer_rec_list900.index(string)\n",
    "    \n",
    "    # similarity coeff of all other beers w respect to the input beer\n",
    "    similarities = corr900[get_index]\n",
    "    \n",
    "    # create  & popluate list to hold tuples of beer names and their \n",
    "    # respective correlation coeff, sorted in reverse\n",
    "    closest = []    \n",
    "    for idx, coeff in enumerate(similarities):\n",
    "        closest.append((beer_rec_list900[idx], coeff))\n",
    "    \n",
    "    closest.sort(key=lambda x: x[1], reverse=True)\n",
    "    \n",
    "    out = []\n",
    "    \n",
    "    for i in range(1,n+1):\n",
    "        out.append(closest[i][0])\n",
    "    return out"
   ]
  },
  {
   "cell_type": "code",
   "execution_count": 39,
   "metadata": {
    "pycharm": {
     "name": "#%%\n"
    }
   },
   "outputs": [
    {
     "data": {
      "text/plain": [
       "['Fat Tire Amber Ale',\n",
       " 'Negra Modelo',\n",
       " 'Samuel Adams Octoberfest',\n",
       " 'Hoegaarden Original White Ale',\n",
       " 'Goose IPA',\n",
       " 'Anchor Porter',\n",
       " 'Traditional Lager',\n",
       " 'Dead Guy Ale',\n",
       " 'Guinness Foreign Extra Stout',\n",
       " 'Kalamazoo Stout',\n",
       " 'Anchor Steam Beer',\n",
       " 'Snowdrift Vanilla Porter',\n",
       " 'Samuel Adams Cold Snap',\n",
       " 'Samuel Adams Winter Lager',\n",
       " 'Born Yesterday',\n",
       " 'Pilsner Urquell',\n",
       " 'Hofbräu Original',\n",
       " 'Blue',\n",
       " 'Baltimore Blonde',\n",
       " 'Edmund Fitzgerald',\n",
       " 'Ten FIDY',\n",
       " 'Bigfoot',\n",
       " 'Solid Gold',\n",
       " 'Hazelnut Brown Nectar',\n",
       " \"Smithwick's Imported Premium Irish Ale\",\n",
       " 'Sublimely Self-Righteous Black IPA',\n",
       " 'Midnight Lager',\n",
       " 'Boddingtons Pub Ale',\n",
       " \"Dragon's Milk\",\n",
       " 'Erdinger Weissbier (Hefe-Weizen)',\n",
       " 'Xocoveza',\n",
       " 'Blue Moon Harvest Pumpkin Wheat',\n",
       " 'Samuel Adams Summer Ale',\n",
       " 'Taddy Porter',\n",
       " 'Black Butte Porter',\n",
       " 'Samuel Adams Alpine Lager',\n",
       " 'Hefe-Weissbier Naturtrüb',\n",
       " 'Dirty Bastard',\n",
       " 'Grolsch Premium Lager',\n",
       " 'Prima Pils']"
      ]
     },
     "execution_count": 39,
     "metadata": {},
     "output_type": "execute_result"
    }
   ],
   "source": [
    "svd900_top_n('Samuel Adams Boston Lager', 40)"
   ]
  },
  {
   "cell_type": "code",
   "execution_count": 40,
   "metadata": {},
   "outputs": [
    {
     "data": {
      "text/plain": [
       "['Nugget Nectar',\n",
       " 'The Abyss',\n",
       " 'Three Philosophers',\n",
       " 'Punkin Ale',\n",
       " 'Traditional Lager',\n",
       " \"Dragon's Milk\",\n",
       " 'Bomb!',\n",
       " 'Orval Trappist Ale',\n",
       " 'Samuel Adams Summer Ale',\n",
       " '#9',\n",
       " 'Ayinger Celebrator',\n",
       " 'Péché Mortel',\n",
       " 'Maudite',\n",
       " 'Mirror Pond Pale Ale',\n",
       " 'Leffe Blonde',\n",
       " 'Kellerweis',\n",
       " 'Raging Bitch',\n",
       " 'Hop Head Red Ale',\n",
       " 'Vitus',\n",
       " 'Old Stock Ale',\n",
       " 'Banana Bread Beer',\n",
       " 'Troegenator',\n",
       " 'The Sixth Glass Quadrupel Ale',\n",
       " 'Best Brown Ale',\n",
       " 'Hopback Amber Ale',\n",
       " 'Flipside Red IPA',\n",
       " 'Warlock',\n",
       " 'Tap 9 Aventinus Eisbock',\n",
       " 'Gonzo',\n",
       " 'East IPA',\n",
       " 'London Porter',\n",
       " 'Red Chair NWPA',\n",
       " 'Pannepot',\n",
       " 'Blushing Monk',\n",
       " 'La Trappe Quadrupel (Koningshoeven / Dominus)',\n",
       " 'Skull Splitter',\n",
       " 'Ayinger Bräuweisse',\n",
       " 'Raspberry Tart',\n",
       " 'Chainbreaker White IPA',\n",
       " 'India Ale']"
      ]
     },
     "execution_count": 40,
     "metadata": {},
     "output_type": "execute_result"
    }
   ],
   "source": [
    "get_top_n('Samuel Adams Boston Lager', 40)"
   ]
  },
  {
   "cell_type": "code",
   "execution_count": 41,
   "metadata": {
    "pycharm": {
     "name": "#%%\n"
    }
   },
   "outputs": [
    {
     "name": "stdout",
     "output_type": "stream",
     "text": [
      "common beers: {'Traditional Lager', \"Dragon's Milk\", 'Samuel Adams Summer Ale'}\n",
      "number of common beers: 3\n"
     ]
    }
   ],
   "source": [
    "A = set(svd900_top_n('Samuel Adams Boston Lager', 40))\n",
    "B = set(get_top_n('Samuel Adams Boston Lager', 40))\n",
    "print('common beers: {}'.format(A.intersection(B)))\n",
    "print('number of common beers: {}'.format(len(A.intersection(B))))\n"
   ]
  },
  {
   "cell_type": "code",
   "execution_count": 58,
   "metadata": {
    "pycharm": {
     "name": "#%%\n"
    }
   },
   "outputs": [],
   "source": [
    "from tqdm import tqdm\n",
    "def compare_recs(name_list,n):\n",
    "\n",
    "    results = []\n",
    "    \n",
    "    for idx, name in tqdm(enumerate(name_list)):\n",
    "        svd = set(svd900_top_n(name,n))\n",
    "        knn = set(get_top_n(name,n))\n",
    "        common = len(svd.intersection(knn))\n",
    "        tup = (idx, common)\n",
    "        results.append(tup)\n",
    "    \n",
    "    x,y = zip(*results)\n",
    "    plt.scatter(x, y)\n",
    "    plt.xlabel('Unique Beer No.')\n",
    "    plt.ylabel('Common Recommendations')\n",
    "    plt.title('Unique Beer No. vs Common Recommendations')\n",
    "    plt.show()\n"
   ]
  },
  {
   "cell_type": "code",
   "execution_count": 59,
   "metadata": {
    "pycharm": {
     "name": "#%%\n"
    }
   },
   "outputs": [],
   "source": [
    "grouped = final_df.groupby('beer_name')\n",
    "namelist = grouped.mean().sort_values(by='rating', ascending=False)[::82].index.tolist()\n"
   ]
  },
  {
   "cell_type": "code",
   "execution_count": 60,
   "metadata": {
    "pycharm": {
     "name": "#%%\n"
    }
   },
   "outputs": [
    {
     "name": "stderr",
     "output_type": "stream",
     "text": [
      "101it [01:48,  1.07s/it]\n"
     ]
    },
    {
     "data": {
      "image/png": "[encoded data removed]",
      "text/plain": [
       "<Figure size 432x288 with 1 Axes>"
      ]
     },
     "metadata": {
      "needs_background": "light"
     },
     "output_type": "display_data"
    }
   ],
   "source": [
    "compare_recs(namelist, 100)\n"
   ]
  },
  {
   "cell_type": "code",
   "execution_count": null,
   "metadata": {
    "pycharm": {
     "name": "#%%\n"
    }
   },
   "outputs": [],
   "source": []
  },
  {
   "cell_type": "code",
   "execution_count": 61,
   "metadata": {},
   "outputs": [
    {
     "name": "stderr",
     "output_type": "stream",
     "text": [
      "101it [01:47,  1.06s/it]\n"
     ]
    },
    {
     "data": {
      "image/png": "[encoded data removed]",
      "text/plain": [
       "<Figure size 432x288 with 1 Axes>"
      ]
     },
     "metadata": {
      "needs_background": "light"
     },
     "output_type": "display_data"
    }
   ],
   "source": [
    "compare_recs(namelist, 50)\n"
   ]
  },
  {
   "cell_type": "code",
   "execution_count": null,
   "metadata": {},
   "outputs": [],
   "source": []
  }
 ],
 "metadata": {
  "kernelspec": {
   "display_name": "PyCharm (BeerRecommendationSystem)",
   "language": "python",
   "name": "pycharm-df7c3fe"
  },
  "language_info": {
   "codemirror_mode": {
    "name": "ipython",
    "version": 3
   },
   "file_extension": ".py",
   "mimetype": "text/x-python",
   "name": "python",
   "nbconvert_exporter": "python",
   "pygments_lexer": "ipython3",
   "version": "3.7.9"
  }
 },
 "nbformat": 4,
 "nbformat_minor": 4
}
