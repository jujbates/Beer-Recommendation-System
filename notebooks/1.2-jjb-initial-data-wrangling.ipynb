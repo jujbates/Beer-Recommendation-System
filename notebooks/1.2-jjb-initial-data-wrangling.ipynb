{
 "cells": [
  {
   "cell_type": "code",
   "execution_count": 13,
   "metadata": {
    "pycharm": {
     "name": "#%%\n"
    }
   },
   "outputs": [
    {
     "data": {
      "text/plain": [
       "True"
      ]
     },
     "execution_count": 13,
     "metadata": {},
     "output_type": "execute_result"
    }
   ],
   "source": [
    "import requests\n",
    "from bs4 import BeautifulSoup\n",
    "import json\n",
    "import pandas as pd\n",
    "import numpy as np\n",
    "import time\n",
    "import pickle\n",
    "import math\n",
    "from tqdm import tqdm\n",
    "from dotenv import find_dotenv, load_dotenv\n",
    "import os\n",
    "import logging\n",
    "\n",
    "logger = logging.getLogger(__name__)\n",
    "\n",
    "load_dotenv(find_dotenv())"
   ]
  },
  {
   "cell_type": "code",
   "execution_count": 69,
   "metadata": {},
   "outputs": [],
   "source": [
    "def start_ba_session(data, headers={}, url='https://www.beeradvocate.com/community/login/login/'):\n",
    "    # Start the session\n",
    "    session = requests.Session()\n",
    "\n",
    "    # Login to BA session\n",
    "    response = session.post(url, headers=headers, data=data)\n",
    "    if response.status_code == 200:\n",
    "        return session\n",
    "    else:\n",
    "        # TODO: add error message logging.\n",
    "        print(\"error\")\n",
    "\n",
    "def get_beer_style_dict_from_json(filename):\n",
    "    # Opening JSON file \n",
    "    with open(filename)  as json_file:\n",
    "        return json.load(json_file)\n",
    "        \n",
    "\n",
    "def get_beer_and_brewery_id(beer_style_dict, session=None):\n",
    "    if session is None:\n",
    "        session = start_ba_session(data={})\n",
    "    \n",
    "    beer_df = pd.DataFrame({}, columns=['beer_style', 'beer_sub_style', 'beer_id', 'brewery_id']) \n",
    "\n",
    "    for beer_style, beer_sub_style_dict in tqdm(beer_style_dict.items()):\n",
    "        for beer_sub_style, style_id in tqdm(beer_sub_style_dict.items()):\n",
    "            beer_style_dict[beer_style][beer_sub_style] = {'id': style_id}\n",
    "\n",
    "            # Gets total number of pages\n",
    "            total_beer_items = 10000\n",
    "\n",
    "            beer_list = []\n",
    "            beer_item = 0\n",
    "            while (beer_item < total_beer_items):\n",
    "\n",
    "                beer_style_url = 'https://www.beeradvocate.com/beer/styles/' + style_id + '?sort=revsD&start=' + str(beer_item)\n",
    "              \n",
    "                response = session.get(beer_style_url)\n",
    "                soup = BeautifulSoup(response.text, 'html.parser')\n",
    "                table = soup.findAll(\"table\")\n",
    "                if beer_item == 0:\n",
    "                    print('here 1 ')\n",
    "                    data_row = table[0].findAll('tr')[0].find('b')\n",
    "                    total_beer_items = int(str(data_row).split(\"(out of \")[1].split(\") -\")[0])         \n",
    "                    logger.info(f'total_beer_items: {total_beer_items}')\n",
    "                data_rows = table[0].findAll('tr')[3:-1]\n",
    "                \n",
    "                print(data_rows)\n",
    "                # Retrive segment of url link for each specific beer in the list\n",
    "                for i in range(len(data_rows)):\n",
    "                    brewery_id, beer_id = tuple(data_rows[i].find('a')['href'].replace('/beer/profile/', '')[:-1].split('/'))\n",
    "                    print({'beer_style': beer_style,\n",
    "                                    'beer_sub_style': beer_sub_style, \n",
    "                                    'beer_id': beer_id, \n",
    "                                    'brewery_id': brewery_id})\n",
    "                    beer_df = beer_df.append({'beer_style': beer_style,\n",
    "                                    'beer_sub_style': beer_sub_style, \n",
    "                                    'beer_id': beer_id, \n",
    "                                    'brewery_id': brewery_id}, \n",
    "                                   ignore_index=True)\n",
    "                logger.info(f'length of beer list: {len(beer_list)}')\n",
    "\n",
    "                beer_item += 50\n",
    "            \n",
    "    return beer_df\n"
   ]
  },
  {
   "cell_type": "code",
   "execution_count": 70,
   "metadata": {
    "pycharm": {
     "name": "#%%\n"
    }
   },
   "outputs": [],
   "source": [
    "def pickle_beer_style_dict(beer_style_dict):\n",
    "    # pickle dictionary\n",
    "    # note: timestamp used for name of each pickled dict\n",
    "    filename = 'final_beer_dict.pkl'\n",
    "    with open(filename, 'wb') as f:\n",
    "        pickle.dump(beer_style_dict, f)\n",
    "        f.close()\n",
    "        \n",
    "def csv_beer_style_dict(beer_style_dict):\n",
    "    # pickle dictionary\n",
    "    # note: timestamp used for name of each pickled dict\n",
    "\n",
    "    beer_style_df = pd.DataFrame.from_dict(beer_style_dict)\n",
    "    beer_style_df.to_csv()\n",
    "    return beer_style_df\n"
   ]
  },
  {
   "cell_type": "code",
   "execution_count": 71,
   "metadata": {},
   "outputs": [],
   "source": [
    "project_dir = os.path.dirname(os.path.abspath('.'))"
   ]
  },
  {
   "cell_type": "code",
   "execution_count": 72,
   "metadata": {},
   "outputs": [
    {
     "name": "stderr",
     "output_type": "stream",
     "text": [
      "  0%|          | 0/1 [00:00<?, ?it/s]\n",
      "  0%|          | 0/1 [00:00<?, ?it/s]\u001b[A"
     ]
    },
    {
     "name": "stdout",
     "output_type": "stream",
     "text": [
      "here 1 \n",
      "[]\n",
      "[]\n",
      "[]\n",
      "[]\n",
      "[]\n",
      "[]\n",
      "[]\n",
      "[]\n",
      "[]\n",
      "[]\n",
      "[]\n",
      "[]\n",
      "[]\n",
      "[]\n",
      "[]\n",
      "[]\n",
      "[]\n",
      "[]\n",
      "[]\n",
      "[]\n",
      "[]\n",
      "[]\n",
      "[]\n",
      "[]\n",
      "[]\n",
      "[]\n",
      "[]\n",
      "[]\n",
      "[]\n",
      "[]\n"
     ]
    },
    {
     "name": "stderr",
     "output_type": "stream",
     "text": [
      "\n",
      "100%|██████████| 1/1 [00:17<00:00, 17.64s/it]\u001b[A\n",
      "100%|██████████| 1/1 [00:17<00:00, 17.64s/it]"
     ]
    },
    {
     "name": "stdout",
     "output_type": "stream",
     "text": [
      "[]\n"
     ]
    },
    {
     "name": "stderr",
     "output_type": "stream",
     "text": [
      "\n"
     ]
    },
    {
     "data": {
      "text/html": [
       "<div>\n",
       "<style scoped>\n",
       "    .dataframe tbody tr th:only-of-type {\n",
       "        vertical-align: middle;\n",
       "    }\n",
       "\n",
       "    .dataframe tbody tr th {\n",
       "        vertical-align: top;\n",
       "    }\n",
       "\n",
       "    .dataframe thead th {\n",
       "        text-align: right;\n",
       "    }\n",
       "</style>\n",
       "<table border=\"1\" class=\"dataframe\">\n",
       "  <thead>\n",
       "    <tr style=\"text-align: right;\">\n",
       "      <th></th>\n",
       "      <th>beer_style</th>\n",
       "      <th>beer_sub_style</th>\n",
       "      <th>beer_id</th>\n",
       "      <th>brewery_id</th>\n",
       "    </tr>\n",
       "  </thead>\n",
       "  <tbody>\n",
       "  </tbody>\n",
       "</table>\n",
       "</div>"
      ],
      "text/plain": [
       "Empty DataFrame\n",
       "Columns: [beer_style, beer_sub_style, beer_id, brewery_id]\n",
       "Index: []"
      ]
     },
     "execution_count": 72,
     "metadata": {},
     "output_type": "execute_result"
    }
   ],
   "source": [
    "data = {\n",
    "    'login': os.environ.get(\"BEER_ADVOCATE_LOGIN\"),\n",
    "    'register': os.environ.get(\"BEER_ADVOCATE_REGISTER\"),\n",
    "    'password': os.environ.get(\"BEER_ADVOCATE_PASSWORD\"),\n",
    "    'cookie_check': os.environ.get(\"BEER_ADVOCATE_COOKIE_CHECK\"),\n",
    "    '_xfToken': os.environ.get(\"BEER_ADVOCATE_XFTOKEN\"),\n",
    "    'redirect': os.environ.get(\"BEER_ADVOCATE_REDIRECT\"),\n",
    "}\n",
    "\n",
    "\n",
    "session = start_ba_session(data)\n",
    "beer_style_dict = get_beer_style_dict_from_json(project_dir  +'/data/raw/beer_styles_dict_test.json')\n",
    "\n",
    "\n",
    "beer_df = get_beer_and_brewery_id(beer_style_dict, session)\n",
    "\n",
    "csv_beer_style_dict(beer_df)\n"
   ]
  },
  {
   "cell_type": "code",
   "execution_count": 68,
   "metadata": {},
   "outputs": [
    {
     "data": {
      "text/html": [
       "<div>\n",
       "<style scoped>\n",
       "    .dataframe tbody tr th:only-of-type {\n",
       "        vertical-align: middle;\n",
       "    }\n",
       "\n",
       "    .dataframe tbody tr th {\n",
       "        vertical-align: top;\n",
       "    }\n",
       "\n",
       "    .dataframe thead th {\n",
       "        text-align: right;\n",
       "    }\n",
       "</style>\n",
       "<table border=\"1\" class=\"dataframe\">\n",
       "  <thead>\n",
       "    <tr style=\"text-align: right;\">\n",
       "      <th></th>\n",
       "      <th>beer_style</th>\n",
       "      <th>beer_sub_style</th>\n",
       "      <th>beer_id</th>\n",
       "      <th>brewery_id</th>\n",
       "    </tr>\n",
       "  </thead>\n",
       "  <tbody>\n",
       "  </tbody>\n",
       "</table>\n",
       "</div>"
      ],
      "text/plain": [
       "Empty DataFrame\n",
       "Columns: [beer_style, beer_sub_style, beer_id, brewery_id]\n",
       "Index: []"
      ]
     },
     "execution_count": 68,
     "metadata": {},
     "output_type": "execute_result"
    }
   ],
   "source": [
    "beer_df.head()\n"
   ]
  },
  {
   "cell_type": "code",
   "execution_count": null,
   "metadata": {},
   "outputs": [],
   "source": [
    "beer_df.info()\n"
   ]
  },
  {
   "cell_type": "code",
   "execution_count": null,
   "metadata": {},
   "outputs": [],
   "source": [
    "def beer_soup(beer, session=None):\n",
    "    if session is None:\n",
    "        print('error')\n",
    "    \n",
    "    # gets beautiful soup object from beer url generated by brewery id and beer id \n",
    "    beer_url = 'https://www.beeradvocate.com/beer/profile/' + beer['brewery_id'] + '/' + beer['beer_id'] + '/'\n",
    "    response = session.get(beer_url)\n",
    "    return BeautifulSoup(response.text, \"html.parser\")\n",
    "\n",
    "\n",
    "def get_beer_and_brewery_name(soup):\n",
    "    name_ele = soup.findAll(class_='titleBar')\n",
    "    name_ele_ = str(name_ele[0]).replace('<br/>', '+-+-+') \n",
    "    \n",
    "    name_soup = BeautifulSoup(name_ele_, \"html.parser\")\n",
    "    \n",
    "    final_name_ele = name_soup.findAll(class_='titleBar')\n",
    "    final_name_ele = final_name_ele[0].text.split('+-+-+')\n",
    "    \n",
    "    return final_name_ele[0].replace('\\n', ''), final_name_ele[1].replace('\\n', '')\n",
    "    \n",
    "    \n",
    "def get_rating(soup):\n",
    "    ba_score = soup.findAll(class_='ba-ravg')\n",
    "    return  round(float(ba_score[0].text), 2)\n",
    "\n",
    "\n",
    "def get_rating_count(soup):\n",
    "    rating_count = soup. findAll(class_='ba-ratings')\n",
    "    return int(rating_count[0].text.replace(',', ''))\n",
    "\n",
    "\n",
    "def get_review_count(soup):\n",
    "    review_count = soup. findAll(class_='ba-reviews')\n",
    "    return int(review_count[0].text.replace(',', ''))\n",
    "\n",
    "\n",
    "def get_ba_score(soup):    \n",
    "    score_box_info = soup.find('div', {'id': 'score_box'}).find_all('span')\n",
    "    for i in range(len(score_box_info)):\n",
    "        if 'SCORE' in score_box_info[i].text:\n",
    "            ba_score_string = score_box_info[i+1].text\n",
    "            break    \n",
    "\n",
    "    if ba_score_string == 'n/a':\n",
    "        return np.nan\n",
    "    return round(float(ba_score_string), 2)\n",
    "\n",
    "\n",
    "def get_abv(soup):\n",
    "\n",
    "    abv_info = soup.findAll('div', {'id':'info_box'})\n",
    "    for item in abv_info:\n",
    "        item = item.text.split('\\n')\n",
    "        len_item = len(item)\n",
    "        for i in range(len_item):\n",
    "            \n",
    "            if 'ABV:' in item[i]:\n",
    "                abv_string = item[i+1]\n",
    "                break\n",
    "        abv_ = abv_string.split(' ')[-1]\n",
    "        if abv_ == 'n/a' or abv_ == 'listed':\n",
    "            return np.nan\n",
    "        return round(float(abv_.strip('%')), 2)\n",
    "\n",
    "    \n",
    "def get_beer_data(soup):\n",
    "    \n",
    "    beer_name, brewery_name = get_beer_and_brewery_name(soup)\n",
    "    beer_rating = get_rating(soup)\n",
    "    beer_rating_count = get_rating_count(soup)\n",
    "    beer_review_count = get_review_count(soup)\n",
    "    beer_ba_score = get_ba_score(soup)\n",
    "    beer_abv = get_abv(soup)\n",
    "\n",
    "    return {\n",
    "        'name': beer_name,\n",
    "        'brewery_name': brewery_name,\n",
    "        'rating': beer_rating,\n",
    "        'rating_count': beer_rating_count,\n",
    "        'review_count': beer_review_count,\n",
    "        'ba_score': beer_ba_score,\n",
    "        'abv': beer_abv,\n",
    "    }\n"
   ]
  },
  {
   "cell_type": "code",
   "execution_count": null,
   "metadata": {},
   "outputs": [],
   "source": [
    "def get_user_info_from_soup(soup):\n",
    "    info_ = soup.findAll(class_='BAscore_norm')\n",
    "    info_user = soup.find(\"div\", {\"id\": \"rating_fullview\"}).findAll(class_='username')\n",
    "    return info_user, info_\n",
    "\n",
    "\n",
    "def create_ratings_list(beer, info_user, info_, beer_rating_id):\n",
    "    temp_beer_rating_list = []\n",
    "    user_list = []\n",
    "    rating_list = []\n",
    "\n",
    "\n",
    "    # get list of users\n",
    "    for i in range(len(info_user)):\n",
    "        if info_user[i].text is not '':\n",
    "            user_list.append(info_user[i].text)\n",
    "    user_list = user_list[:]\n",
    "\n",
    "    # get list of ratings\n",
    "    for i in range(len(info_)):\n",
    "        uni_rating = float(info_[i].text)\n",
    "        uni_rating2 = format(uni_rating, '.2f')\n",
    "        rating_list.append(uni_rating2)\n",
    "\n",
    "\n",
    "     # append users and ratings as tuple pair\n",
    "    for i in range(len(user_list)):\n",
    "        beer_rating_data = {\n",
    "            'brewery_id': beer['brewery_id'] ,\n",
    "            'beer_id': beer['beer_id'],\n",
    "            'beer_rating_id': beer_rating_id\n",
    "        }\n",
    "        beer_rating_data['user_name'] = user_list[i]\n",
    "        beer_rating_data['user_rating'] = rating_list[i]\n",
    "\n",
    "        temp_beer_rating_list.append(beer_rating_data)\n",
    "        beer_rating_id += 1\n",
    "        \n",
    "    return temp_beer_rating_list, beer_rating_id"
   ]
  },
  {
   "cell_type": "code",
   "execution_count": null,
   "metadata": {},
   "outputs": [],
   "source": [
    "\n",
    "def create_beer_meta_dataframe(beer_df, session):\n",
    "    final_beer_list = []\n",
    "    beer_meta_id  = 1\n",
    "    for index, beer_row in tqdm(beer_df.iterrows()):\n",
    "                \n",
    "        soup = beer_soup(beer_row, session)\n",
    "        \n",
    "        beer_meta_data = {}\n",
    "        beer_meta_data.update(beer_row)\n",
    "        beer_meta_data.update(get_beer_data(soup))\n",
    "        beer_meta_data['beer_meta_id'] = beer_meta_id\n",
    "\n",
    "        final_beer_list.append(beer_meta_data)\n",
    "        beer_meta_id += 1                \n",
    "\n",
    "    return pd.DataFrame(final_beer_list).set_index('beer_meta_id')\n",
    "\n",
    "\n",
    "\n",
    "def create_beer_rating_dataframe(beer_df, session):\n",
    "    \n",
    "    final_beer_rating_list = []\n",
    "    beer_rating_id  = 1\n",
    "\n",
    "    for index, beer_row in tqdm(beer_df.iterrows()):\n",
    "\n",
    "        # Gets total number of pages placeholder\n",
    "        total_review_items = 10000\n",
    "\n",
    "        review_item = 1000\n",
    "        review_url = 'https://www.beeradvocate.com/beer/profile/' + beer_row['brewery_id'] + '/' + beer_row['beer_id'] + '/' + '?view=beer&sort=&start=' + str(review_item)\n",
    "\n",
    "        response = session.post(review_url, data={'hideRatings': 'N'})\n",
    "\n",
    "        while (review_item < total_review_items):\n",
    "\n",
    "            review_url = 'https://www.beeradvocate.com/beer/profile/' + beer_row['brewery_id'] + '/' + beer_row['beer_id'] + '/' + '?view=beer&sort=&start=' + str(review_item)\n",
    "            response = session.get(review_url)\n",
    "\n",
    "            html_doc = response.text\n",
    "            soup = BeautifulSoup(html_doc, 'html.parser')\n",
    "\n",
    "            if review_item == 1000:\n",
    "\n",
    "                rating = soup.findAll(class_='ba-ratings')\n",
    "                rc = rating[0].text\n",
    "                rating_count = int(rc.replace(',',''))\n",
    "                if rating_count < 50:\n",
    "                    break\n",
    "                    \n",
    "                # divide rating by 25 and round down to get number of iterations\n",
    "                ct = math.ceil(rating_count/25 )\n",
    "\n",
    "                # return last page (intger)\n",
    "                total_review_items = ct*25\n",
    "            \n",
    "\n",
    "            info_user, info_ = get_user_info_from_soup(soup)\n",
    "            temp_beer_rating_list, beer_rating_id = create_ratings_list(beer_row, info_user, info_, beer_rating_id)\n",
    "            final_beer_rating_list = final_beer_rating_list + temp_beer_rating_list\n",
    "\n",
    "            review_item += 25\n",
    "            break\n",
    "    return pd.DataFrame(final_beer_rating_list).set_index('beer_rating_id')\n"
   ]
  },
  {
   "cell_type": "code",
   "execution_count": null,
   "metadata": {
    "pycharm": {
     "name": "#%%\n"
    },
    "scrolled": true
   },
   "outputs": [],
   "source": [
    "beer_meta_df = create_beer_meta_dataframe(beer_df, session)"
   ]
  },
  {
   "cell_type": "code",
   "execution_count": null,
   "metadata": {},
   "outputs": [],
   "source": [
    "beer_meta_df"
   ]
  },
  {
   "cell_type": "code",
   "execution_count": null,
   "metadata": {},
   "outputs": [],
   "source": [
    "beer_rating_df = create_beer_rating_dataframe(beer_df, session)"
   ]
  },
  {
   "cell_type": "code",
   "execution_count": null,
   "metadata": {},
   "outputs": [],
   "source": [
    "beer_rating_df"
   ]
  },
  {
   "cell_type": "code",
   "execution_count": null,
   "metadata": {},
   "outputs": [],
   "source": []
  }
 ],
 "metadata": {
  "kernelspec": {
   "display_name": "PyCharm (BeerRecommendationSystem)",
   "language": "python",
   "name": "pycharm-df7c3fe"
  },
  "language_info": {
   "codemirror_mode": {
    "name": "ipython",
    "version": 3
   },
   "file_extension": ".py",
   "mimetype": "text/x-python",
   "name": "python",
   "nbconvert_exporter": "python",
   "pygments_lexer": "ipython3",
   "version": "3.7.9"
  }
 },
 "nbformat": 4,
 "nbformat_minor": 1
}
